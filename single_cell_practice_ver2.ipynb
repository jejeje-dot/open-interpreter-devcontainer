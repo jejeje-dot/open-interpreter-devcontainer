{
  "nbformat": 4,
  "nbformat_minor": 0,
  "metadata": {
    "colab": {
      "provenance": [],
      "mount_file_id": "1CPT_boZ7objp52vi2wWh3XpXpI2ApFto",
      "authorship_tag": "ABX9TyNseccnN/xW2e4lsZAXvEkd",
      "include_colab_link": true
    },
    "kernelspec": {
      "name": "python3",
      "display_name": "Python 3"
    },
    "language_info": {
      "name": "python"
    }
  },
  "cells": [
    {
      "cell_type": "markdown",
      "metadata": {
        "id": "view-in-github",
        "colab_type": "text"
      },
      "source": [
        "<a href=\"https://colab.research.google.com/github/jejeje-dot/open-interpreter-devcontainer/blob/main/single_cell_practice_ver2.ipynb\" target=\"_parent\"><img src=\"https://colab.research.google.com/assets/colab-badge.svg\" alt=\"Open In Colab\"/></a>"
      ]
    },
    {
      "cell_type": "markdown",
      "source": [
        "# シングルセル解析"
      ],
      "metadata": {
        "id": "KCrJD27145Lh"
      }
    },
    {
      "cell_type": "markdown",
      "source": [
        "シングルセルの遺伝子解析を行います。\n",
        "前半は[scanpy](https://scanpy-tutorials.readthedocs.io/en/latest/index.html)のチュートリアルに基づき、後半は[decopuleR](https://decoupler-py.readthedocs.io/en/latest/index.html)に基づきます。"
      ],
      "metadata": {
        "id": "095eB3upk7r9"
      }
    },
    {
      "cell_type": "code",
      "source": [
        "!pip install scanpy\n",
        "!pip install scrublet\n",
        "\n",
        "import scrublet as scr\n",
        "%matplotlib inline\n",
        "import pandas as pd\n",
        "import matplotlib\n",
        "from matplotlib import pyplot as plt\n",
        "import numpy as np\n",
        "import seaborn as sns\n",
        "import sys\n",
        "import os\n",
        "import scanpy as sc\n",
        "import anndata as an\n",
        "sns.set(style='white',font_scale= 1.25)"
      ],
      "metadata": {
        "colab": {
          "base_uri": "https://localhost:8080/"
        },
        "id": "H24ntcRyMzFo",
        "outputId": "95810bd0-6378-41e8-d1d3-57435a395d4b"
      },
      "execution_count": null,
      "outputs": [
        {
          "output_type": "stream",
          "name": "stdout",
          "text": [
            "Collecting scanpy\n",
            "  Downloading scanpy-1.10.2-py3-none-any.whl (2.1 MB)\n",
            "\u001b[2K     \u001b[90m━━━━━━━━━━━━━━━━━━━━━━━━━━━━━━━━━━━━━━━━\u001b[0m \u001b[32m2.1/2.1 MB\u001b[0m \u001b[31m16.7 MB/s\u001b[0m eta \u001b[36m0:00:00\u001b[0m\n",
            "\u001b[?25hCollecting anndata>=0.8 (from scanpy)\n",
            "  Downloading anndata-0.10.8-py3-none-any.whl (124 kB)\n",
            "\u001b[2K     \u001b[90m━━━━━━━━━━━━━━━━━━━━━━━━━━━━━━━━━━━━━━━━\u001b[0m \u001b[32m124.4/124.4 kB\u001b[0m \u001b[31m14.2 MB/s\u001b[0m eta \u001b[36m0:00:00\u001b[0m\n",
            "\u001b[?25hRequirement already satisfied: h5py>=3.1 in /usr/local/lib/python3.10/dist-packages (from scanpy) (3.9.0)\n",
            "Requirement already satisfied: joblib in /usr/local/lib/python3.10/dist-packages (from scanpy) (1.4.2)\n",
            "Collecting legacy-api-wrap>=1.4 (from scanpy)\n",
            "  Downloading legacy_api_wrap-1.4-py3-none-any.whl (15 kB)\n",
            "Requirement already satisfied: matplotlib>=3.6 in /usr/local/lib/python3.10/dist-packages (from scanpy) (3.7.1)\n",
            "Requirement already satisfied: natsort in /usr/local/lib/python3.10/dist-packages (from scanpy) (8.4.0)\n",
            "Requirement already satisfied: networkx>=2.7 in /usr/local/lib/python3.10/dist-packages (from scanpy) (3.3)\n",
            "Requirement already satisfied: numba>=0.56 in /usr/local/lib/python3.10/dist-packages (from scanpy) (0.58.1)\n",
            "Requirement already satisfied: numpy<2,>=1.23 in /usr/local/lib/python3.10/dist-packages (from scanpy) (1.25.2)\n",
            "Requirement already satisfied: packaging>=21.3 in /usr/local/lib/python3.10/dist-packages (from scanpy) (24.1)\n",
            "Requirement already satisfied: pandas>=1.5 in /usr/local/lib/python3.10/dist-packages (from scanpy) (2.0.3)\n",
            "Requirement already satisfied: patsy in /usr/local/lib/python3.10/dist-packages (from scanpy) (0.5.6)\n",
            "Collecting pynndescent>=0.5 (from scanpy)\n",
            "  Downloading pynndescent-0.5.13-py3-none-any.whl (56 kB)\n",
            "\u001b[2K     \u001b[90m━━━━━━━━━━━━━━━━━━━━━━━━━━━━━━━━━━━━━━━━\u001b[0m \u001b[32m56.9/56.9 kB\u001b[0m \u001b[31m6.3 MB/s\u001b[0m eta \u001b[36m0:00:00\u001b[0m\n",
            "\u001b[?25hRequirement already satisfied: scikit-learn>=0.24 in /usr/local/lib/python3.10/dist-packages (from scanpy) (1.2.2)\n",
            "Requirement already satisfied: scipy>=1.8 in /usr/local/lib/python3.10/dist-packages (from scanpy) (1.11.4)\n",
            "Requirement already satisfied: seaborn>=0.13 in /usr/local/lib/python3.10/dist-packages (from scanpy) (0.13.1)\n",
            "Collecting session-info (from scanpy)\n",
            "  Downloading session_info-1.0.0.tar.gz (24 kB)\n",
            "  Preparing metadata (setup.py) ... \u001b[?25l\u001b[?25hdone\n",
            "Requirement already satisfied: statsmodels>=0.13 in /usr/local/lib/python3.10/dist-packages (from scanpy) (0.14.2)\n",
            "Requirement already satisfied: tqdm in /usr/local/lib/python3.10/dist-packages (from scanpy) (4.66.4)\n",
            "Collecting umap-learn!=0.5.0,>=0.5 (from scanpy)\n",
            "  Downloading umap_learn-0.5.6-py3-none-any.whl (85 kB)\n",
            "\u001b[2K     \u001b[90m━━━━━━━━━━━━━━━━━━━━━━━━━━━━━━━━━━━━━━━━\u001b[0m \u001b[32m85.7/85.7 kB\u001b[0m \u001b[31m9.6 MB/s\u001b[0m eta \u001b[36m0:00:00\u001b[0m\n",
            "\u001b[?25hCollecting array-api-compat!=1.5,>1.4 (from anndata>=0.8->scanpy)\n",
            "  Downloading array_api_compat-1.7.1-py3-none-any.whl (37 kB)\n",
            "Requirement already satisfied: exceptiongroup in /usr/local/lib/python3.10/dist-packages (from anndata>=0.8->scanpy) (1.2.1)\n",
            "Requirement already satisfied: contourpy>=1.0.1 in /usr/local/lib/python3.10/dist-packages (from matplotlib>=3.6->scanpy) (1.2.1)\n",
            "Requirement already satisfied: cycler>=0.10 in /usr/local/lib/python3.10/dist-packages (from matplotlib>=3.6->scanpy) (0.12.1)\n",
            "Requirement already satisfied: fonttools>=4.22.0 in /usr/local/lib/python3.10/dist-packages (from matplotlib>=3.6->scanpy) (4.53.0)\n",
            "Requirement already satisfied: kiwisolver>=1.0.1 in /usr/local/lib/python3.10/dist-packages (from matplotlib>=3.6->scanpy) (1.4.5)\n",
            "Requirement already satisfied: pillow>=6.2.0 in /usr/local/lib/python3.10/dist-packages (from matplotlib>=3.6->scanpy) (9.4.0)\n",
            "Requirement already satisfied: pyparsing>=2.3.1 in /usr/local/lib/python3.10/dist-packages (from matplotlib>=3.6->scanpy) (3.1.2)\n",
            "Requirement already satisfied: python-dateutil>=2.7 in /usr/local/lib/python3.10/dist-packages (from matplotlib>=3.6->scanpy) (2.8.2)\n",
            "Requirement already satisfied: llvmlite<0.42,>=0.41.0dev0 in /usr/local/lib/python3.10/dist-packages (from numba>=0.56->scanpy) (0.41.1)\n",
            "Requirement already satisfied: pytz>=2020.1 in /usr/local/lib/python3.10/dist-packages (from pandas>=1.5->scanpy) (2023.4)\n",
            "Requirement already satisfied: tzdata>=2022.1 in /usr/local/lib/python3.10/dist-packages (from pandas>=1.5->scanpy) (2024.1)\n",
            "Requirement already satisfied: threadpoolctl>=2.0.0 in /usr/local/lib/python3.10/dist-packages (from scikit-learn>=0.24->scanpy) (3.5.0)\n",
            "Requirement already satisfied: six in /usr/local/lib/python3.10/dist-packages (from patsy->scanpy) (1.16.0)\n",
            "Collecting stdlib_list (from session-info->scanpy)\n",
            "  Downloading stdlib_list-0.10.0-py3-none-any.whl (79 kB)\n",
            "\u001b[2K     \u001b[90m━━━━━━━━━━━━━━━━━━━━━━━━━━━━━━━━━━━━━━━━\u001b[0m \u001b[32m79.8/79.8 kB\u001b[0m \u001b[31m7.1 MB/s\u001b[0m eta \u001b[36m0:00:00\u001b[0m\n",
            "\u001b[?25hBuilding wheels for collected packages: session-info\n",
            "  Building wheel for session-info (setup.py) ... \u001b[?25l\u001b[?25hdone\n",
            "  Created wheel for session-info: filename=session_info-1.0.0-py3-none-any.whl size=8026 sha256=7a58fdf8d6a02e0bb56f34cb2ac617bfc7c373becbabe3c1e03016239332d77d\n",
            "  Stored in directory: /root/.cache/pip/wheels/6a/aa/b9/eb5d4031476ec10802795b97ccf937b9bd998d68a9b268765a\n",
            "Successfully built session-info\n",
            "Installing collected packages: array-api-compat, stdlib_list, legacy-api-wrap, session-info, pynndescent, anndata, umap-learn, scanpy\n",
            "Successfully installed anndata-0.10.8 array-api-compat-1.7.1 legacy-api-wrap-1.4 pynndescent-0.5.13 scanpy-1.10.2 session-info-1.0.0 stdlib_list-0.10.0 umap-learn-0.5.6\n",
            "Collecting scrublet\n",
            "  Downloading scrublet-0.2.3-py3-none-any.whl (15 kB)\n",
            "Requirement already satisfied: cython in /usr/local/lib/python3.10/dist-packages (from scrublet) (3.0.10)\n",
            "Requirement already satisfied: numpy in /usr/local/lib/python3.10/dist-packages (from scrublet) (1.25.2)\n",
            "Requirement already satisfied: scipy in /usr/local/lib/python3.10/dist-packages (from scrublet) (1.11.4)\n",
            "Requirement already satisfied: scikit-learn in /usr/local/lib/python3.10/dist-packages (from scrublet) (1.2.2)\n",
            "Requirement already satisfied: scikit-image in /usr/local/lib/python3.10/dist-packages (from scrublet) (0.19.3)\n",
            "Requirement already satisfied: matplotlib in /usr/local/lib/python3.10/dist-packages (from scrublet) (3.7.1)\n",
            "Collecting annoy (from scrublet)\n",
            "  Downloading annoy-1.17.3.tar.gz (647 kB)\n",
            "\u001b[2K     \u001b[90m━━━━━━━━━━━━━━━━━━━━━━━━━━━━━━━━━━━━━━━━\u001b[0m \u001b[32m647.5/647.5 kB\u001b[0m \u001b[31m10.2 MB/s\u001b[0m eta \u001b[36m0:00:00\u001b[0m\n",
            "\u001b[?25h  Preparing metadata (setup.py) ... \u001b[?25l\u001b[?25hdone\n",
            "Requirement already satisfied: numba in /usr/local/lib/python3.10/dist-packages (from scrublet) (0.58.1)\n",
            "Requirement already satisfied: pandas in /usr/local/lib/python3.10/dist-packages (from scrublet) (2.0.3)\n",
            "Requirement already satisfied: umap-learn in /usr/local/lib/python3.10/dist-packages (from scrublet) (0.5.6)\n",
            "Requirement already satisfied: contourpy>=1.0.1 in /usr/local/lib/python3.10/dist-packages (from matplotlib->scrublet) (1.2.1)\n",
            "Requirement already satisfied: cycler>=0.10 in /usr/local/lib/python3.10/dist-packages (from matplotlib->scrublet) (0.12.1)\n",
            "Requirement already satisfied: fonttools>=4.22.0 in /usr/local/lib/python3.10/dist-packages (from matplotlib->scrublet) (4.53.0)\n",
            "Requirement already satisfied: kiwisolver>=1.0.1 in /usr/local/lib/python3.10/dist-packages (from matplotlib->scrublet) (1.4.5)\n",
            "Requirement already satisfied: packaging>=20.0 in /usr/local/lib/python3.10/dist-packages (from matplotlib->scrublet) (24.1)\n",
            "Requirement already satisfied: pillow>=6.2.0 in /usr/local/lib/python3.10/dist-packages (from matplotlib->scrublet) (9.4.0)\n",
            "Requirement already satisfied: pyparsing>=2.3.1 in /usr/local/lib/python3.10/dist-packages (from matplotlib->scrublet) (3.1.2)\n",
            "Requirement already satisfied: python-dateutil>=2.7 in /usr/local/lib/python3.10/dist-packages (from matplotlib->scrublet) (2.8.2)\n",
            "Requirement already satisfied: llvmlite<0.42,>=0.41.0dev0 in /usr/local/lib/python3.10/dist-packages (from numba->scrublet) (0.41.1)\n",
            "Requirement already satisfied: pytz>=2020.1 in /usr/local/lib/python3.10/dist-packages (from pandas->scrublet) (2023.4)\n",
            "Requirement already satisfied: tzdata>=2022.1 in /usr/local/lib/python3.10/dist-packages (from pandas->scrublet) (2024.1)\n",
            "Requirement already satisfied: networkx>=2.2 in /usr/local/lib/python3.10/dist-packages (from scikit-image->scrublet) (3.3)\n",
            "Requirement already satisfied: imageio>=2.4.1 in /usr/local/lib/python3.10/dist-packages (from scikit-image->scrublet) (2.31.6)\n",
            "Requirement already satisfied: tifffile>=2019.7.26 in /usr/local/lib/python3.10/dist-packages (from scikit-image->scrublet) (2024.6.18)\n",
            "Requirement already satisfied: PyWavelets>=1.1.1 in /usr/local/lib/python3.10/dist-packages (from scikit-image->scrublet) (1.6.0)\n",
            "Requirement already satisfied: joblib>=1.1.1 in /usr/local/lib/python3.10/dist-packages (from scikit-learn->scrublet) (1.4.2)\n",
            "Requirement already satisfied: threadpoolctl>=2.0.0 in /usr/local/lib/python3.10/dist-packages (from scikit-learn->scrublet) (3.5.0)\n",
            "Requirement already satisfied: pynndescent>=0.5 in /usr/local/lib/python3.10/dist-packages (from umap-learn->scrublet) (0.5.13)\n",
            "Requirement already satisfied: tqdm in /usr/local/lib/python3.10/dist-packages (from umap-learn->scrublet) (4.66.4)\n",
            "Requirement already satisfied: six>=1.5 in /usr/local/lib/python3.10/dist-packages (from python-dateutil>=2.7->matplotlib->scrublet) (1.16.0)\n",
            "Building wheels for collected packages: annoy\n",
            "  Building wheel for annoy (setup.py) ... \u001b[?25l\u001b[?25hdone\n",
            "  Created wheel for annoy: filename=annoy-1.17.3-cp310-cp310-linux_x86_64.whl size=552448 sha256=074597b167366b2d9617ecf9ba90f7a5d61b093192b24e70b8863747bd0398a6\n",
            "  Stored in directory: /root/.cache/pip/wheels/64/8a/da/f714bcf46c5efdcfcac0559e63370c21abe961c48e3992465a\n",
            "Successfully built annoy\n",
            "Installing collected packages: annoy, scrublet\n",
            "Successfully installed annoy-1.17.3 scrublet-0.2.3\n"
          ]
        }
      ]
    },
    {
      "cell_type": "code",
      "source": [
        "#!pip list\n"
      ],
      "metadata": {
        "id": "coG00oa7P2Gn"
      },
      "execution_count": null,
      "outputs": []
    },
    {
      "cell_type": "code",
      "source": [
        "#!pip freeze"
      ],
      "metadata": {
        "id": "wy6_6FOuP8pB"
      },
      "execution_count": null,
      "outputs": []
    },
    {
      "cell_type": "code",
      "source": [
        "sc.settings.verbosity = 3             # verbosity: errors (0), warnings (1), info (2), hints (3)\n",
        "sc.logging.print_header()\n",
        "sc.settings.set_figure_params(dpi=80, facecolor='white')"
      ],
      "metadata": {
        "colab": {
          "base_uri": "https://localhost:8080/"
        },
        "id": "GFf97GWlndKD",
        "outputId": "6ca600c5-6b0a-4c10-ef0f-5d72a96a8b2b"
      },
      "execution_count": null,
      "outputs": [
        {
          "output_type": "stream",
          "name": "stdout",
          "text": [
            "scanpy==1.10.2 anndata==0.10.8 umap==0.5.6 numpy==1.25.2 scipy==1.11.4 pandas==2.0.3 scikit-learn==1.2.2 statsmodels==0.14.2 pynndescent==0.5.13\n"
          ]
        }
      ]
    },
    {
      "cell_type": "markdown",
      "source": [
        "ダウンロードしたデータは４つの個体からなりますが、まずは１個体（APT_ID）の解析を行います。４つの個体の解析は後程行います。"
      ],
      "metadata": {
        "id": "OR83patSmo_e"
      }
    },
    {
      "cell_type": "markdown",
      "source": [
        "## 前処理"
      ],
      "metadata": {
        "id": "JgeTTB1fk2hE"
      }
    },
    {
      "cell_type": "code",
      "source": [
        "adata = an.read_h5ad('/content/drive/MyDrive/GSE254205_ad_raw.h5ad/ad_raw_doublet_scores.h5ad')"
      ],
      "metadata": {
        "id": "Gags6A0KQdji"
      },
      "execution_count": null,
      "outputs": []
    },
    {
      "cell_type": "code",
      "source": [
        "#sc.pl.highest_expr_genes(adata, n_top=20,)"
      ],
      "metadata": {
        "id": "t25JK3FYq97U"
      },
      "execution_count": null,
      "outputs": []
    },
    {
      "cell_type": "code",
      "source": [
        "sc.pp.filter_cells(adata, min_genes=200)\n",
        "sc.pp.filter_genes(adata, min_cells=3)\n",
        "adata"
      ],
      "metadata": {
        "colab": {
          "base_uri": "https://localhost:8080/"
        },
        "id": "VF_sQwi_njmg",
        "outputId": "fa773b26-b041-42a5-affb-0919f8ac5908"
      },
      "execution_count": null,
      "outputs": [
        {
          "output_type": "stream",
          "name": "stdout",
          "text": [
            "filtered out 30 cells that have less than 200 genes expressed\n",
            "filtered out 3972 genes that are detected in less than 3 cells\n"
          ]
        },
        {
          "output_type": "execute_result",
          "data": {
            "text/plain": [
              "AnnData object with n_obs × n_vars = 121135 × 29566\n",
              "    obs: 'sample', 'type', 'ds', 'ps', 'n_genes'\n",
              "    var: 'n_cells'"
            ]
          },
          "metadata": {},
          "execution_count": 5
        }
      ]
    },
    {
      "cell_type": "code",
      "source": [
        "#sc.pl.highest_expr_genes(D, n_top=20,)"
      ],
      "metadata": {
        "id": "e2nBwRUTnqTK"
      },
      "execution_count": null,
      "outputs": []
    },
    {
      "cell_type": "markdown",
      "source": [
        "### ミトコンドリアRNAの検出とフィルタリング\n",
        "ミトコンドリア遺伝子の割合が高い細胞は質がよろしくない細胞であるという背景があるそうです。"
      ],
      "metadata": {
        "id": "Yil--0D_uAP6"
      }
    },
    {
      "cell_type": "code",
      "source": [
        "adata.var['mt'] = adata.var_names.str.startswith('MT-')  # annotate the group of mitochondrial genes as 'mt'\n",
        "sc.pp.calculate_qc_metrics(adata, qc_vars=['mt'], percent_top=None, log1p=False, inplace=True)"
      ],
      "metadata": {
        "id": "KP987weto3kX"
      },
      "execution_count": null,
      "outputs": []
    },
    {
      "cell_type": "code",
      "source": [
        "#sc.pl.violin(adata, ['n_genes_by_counts', 'total_counts', 'pct_counts_mt'],\n",
        "#             jitter=0.4, multi_panel=True)"
      ],
      "metadata": {
        "id": "58q5ZnPepA6_"
      },
      "execution_count": null,
      "outputs": []
    },
    {
      "cell_type": "code",
      "source": [
        "#sc.pl.scatter(adata, x='total_counts', y='pct_counts_mt')\n",
        "#sc.pl.scatter(adata, x='total_counts', y='n_genes_by_counts')"
      ],
      "metadata": {
        "id": "L7JCr4K_pBVF"
      },
      "execution_count": null,
      "outputs": []
    },
    {
      "cell_type": "markdown",
      "source": [
        "いい感じにフィルタリングします"
      ],
      "metadata": {
        "id": "Aw1HhDZcnjK1"
      }
    },
    {
      "cell_type": "code",
      "source": [
        "adata = adata[adata.obs.n_genes_by_counts < 9000, :]\n",
        "adata = adata[adata.obs.pct_counts_mt < 40, :]\n",
        "adata"
      ],
      "metadata": {
        "id": "K4yJJ9NppEGU",
        "colab": {
          "base_uri": "https://localhost:8080/"
        },
        "outputId": "a2f4a221-96c1-4148-ca5b-97a493cfa8e5"
      },
      "execution_count": null,
      "outputs": [
        {
          "output_type": "execute_result",
          "data": {
            "text/plain": [
              "View of AnnData object with n_obs × n_vars = 120149 × 29566\n",
              "    obs: 'sample', 'type', 'ds', 'ps', 'n_genes', 'n_genes_by_counts', 'total_counts', 'total_counts_mt', 'pct_counts_mt'\n",
              "    var: 'n_cells', 'mt', 'n_cells_by_counts', 'mean_counts', 'pct_dropout_by_counts', 'total_counts'"
            ]
          },
          "metadata": {},
          "execution_count": 10
        }
      ]
    },
    {
      "cell_type": "code",
      "source": [
        "#sc.pl.scatter(adata, x='total_counts', y='pct_counts_mt')\n",
        "#sc.pl.scatter(adata, x='total_counts', y='n_genes_by_counts')"
      ],
      "metadata": {
        "id": "_tM_ruJ530rZ"
      },
      "execution_count": null,
      "outputs": []
    },
    {
      "cell_type": "markdown",
      "source": [
        "### 正規化"
      ],
      "metadata": {
        "id": "AZnuXQx5t82O"
      }
    },
    {
      "cell_type": "code",
      "source": [
        "sc.pp.normalize_total(adata, target_sum=1e4)"
      ],
      "metadata": {
        "id": "ngxhSnaYpJom",
        "colab": {
          "base_uri": "https://localhost:8080/"
        },
        "outputId": "848febe0-4b19-44cd-c126-54ac0600a193"
      },
      "execution_count": null,
      "outputs": [
        {
          "output_type": "stream",
          "name": "stderr",
          "text": [
            "/usr/local/lib/python3.10/dist-packages/scanpy/preprocessing/_normalization.py:206: UserWarning: Received a view of an AnnData. Making a copy.\n",
            "  view_to_actual(adata)\n"
          ]
        },
        {
          "output_type": "stream",
          "name": "stdout",
          "text": [
            "normalizing counts per cell\n",
            "    finished (0:00:01)\n"
          ]
        }
      ]
    },
    {
      "cell_type": "code",
      "source": [
        "sc.pp.log1p(adata)"
      ],
      "metadata": {
        "id": "0qp95JpjpLrz"
      },
      "execution_count": null,
      "outputs": []
    },
    {
      "cell_type": "markdown",
      "source": [
        "### HVG (Highly Variable Genes)の検出とフィルタリング"
      ],
      "metadata": {
        "id": "WoFB33KzubhE"
      }
    },
    {
      "cell_type": "code",
      "source": [
        "sc.pp.highly_variable_genes(adata, min_mean=0.0125, max_mean=3, min_disp=0.5)"
      ],
      "metadata": {
        "id": "Urtxgl3dpNgX",
        "colab": {
          "base_uri": "https://localhost:8080/"
        },
        "outputId": "68bc33eb-9e4d-4d53-dc8b-bae58b0de895"
      },
      "execution_count": null,
      "outputs": [
        {
          "output_type": "stream",
          "name": "stdout",
          "text": [
            "extracting highly variable genes\n",
            "    finished (0:00:19)\n",
            "--> added\n",
            "    'highly_variable', boolean vector (adata.var)\n",
            "    'means', float vector (adata.var)\n",
            "    'dispersions', float vector (adata.var)\n",
            "    'dispersions_norm', float vector (adata.var)\n"
          ]
        }
      ]
    },
    {
      "cell_type": "code",
      "source": [
        "sc.pl.highly_variable_genes(adata)"
      ],
      "metadata": {
        "id": "DzsR43QnpPsO",
        "colab": {
          "base_uri": "https://localhost:8080/",
          "height": 320
        },
        "outputId": "8fab991b-5699-4a43-e0f5-dd3e4c46ebfd"
      },
      "execution_count": null,
      "outputs": [
        {
          "output_type": "display_data",
          "data": {
            "text/plain": [
              "<Figure size 640x320 with 2 Axes>"
            ],
            "image/png": "[encoded data removed]"
          },
          "metadata": {
            "image/png": {
              "width": 582,
              "height": 303
            }
          }
        }
      ]
    },
    {
      "cell_type": "code",
      "source": [
        "adata"
      ],
      "metadata": {
        "colab": {
          "base_uri": "https://localhost:8080/"
        },
        "id": "lNfCfhYARDl9",
        "outputId": "dbf8f530-17c1-4f15-9994-ac347160c1e4"
      },
      "execution_count": null,
      "outputs": [
        {
          "output_type": "execute_result",
          "data": {
            "text/plain": [
              "AnnData object with n_obs × n_vars = 120149 × 29566\n",
              "    obs: 'sample', 'type', 'ds', 'ps', 'n_genes', 'n_genes_by_counts', 'total_counts', 'total_counts_mt', 'pct_counts_mt'\n",
              "    var: 'n_cells', 'mt', 'n_cells_by_counts', 'mean_counts', 'pct_dropout_by_counts', 'total_counts', 'highly_variable', 'means', 'dispersions', 'dispersions_norm'\n",
              "    uns: 'log1p', 'hvg'"
            ]
          },
          "metadata": {},
          "execution_count": 16
        }
      ]
    },
    {
      "cell_type": "code",
      "source": [
        "adata.raw = adata"
      ],
      "metadata": {
        "id": "faEf3X-NpR6y"
      },
      "execution_count": null,
      "outputs": []
    },
    {
      "cell_type": "code",
      "source": [
        "adata = adata[:, adata.var.highly_variable]"
      ],
      "metadata": {
        "id": "CKb7CZLnpT8P"
      },
      "execution_count": null,
      "outputs": []
    },
    {
      "cell_type": "code",
      "source": [
        "# AnnDataオブジェクトを保存\n",
        "adata.write('/content/drive/MyDrive/GSE254205_ad_raw.h5ad/ad_raw_doublet_processed1.h5ad')"
      ],
      "metadata": {
        "id": "48IRBEoYS5pG"
      },
      "execution_count": null,
      "outputs": []
    },
    {
      "cell_type": "code",
      "source": [
        "# 保存されたAnnDataオブジェクトを読み込む\n",
        "adata = sc.read('/content/drive/MyDrive/GSE254205_ad_raw.h5ad/ad_raw_doublet_processed1.h5ad')"
      ],
      "metadata": {
        "id": "RJ90tN0IS7nX"
      },
      "execution_count": null,
      "outputs": []
    },
    {
      "cell_type": "code",
      "source": [
        "adata"
      ],
      "metadata": {
        "colab": {
          "base_uri": "https://localhost:8080/"
        },
        "id": "2EQ73I3ZalM2",
        "outputId": "f0e99153-e6e6-4ee4-8e75-541b10f5e02e"
      },
      "execution_count": null,
      "outputs": [
        {
          "output_type": "execute_result",
          "data": {
            "text/plain": [
              "AnnData object with n_obs × n_vars = 120149 × 5431\n",
              "    obs: 'sample', 'type', 'ds', 'ps', 'n_genes', 'n_genes_by_counts', 'total_counts', 'total_counts_mt', 'pct_counts_mt'\n",
              "    var: 'n_cells', 'mt', 'n_cells_by_counts', 'mean_counts', 'pct_dropout_by_counts', 'total_counts', 'highly_variable', 'means', 'dispersions', 'dispersions_norm'\n",
              "    uns: 'hvg', 'log1p'"
            ]
          },
          "metadata": {},
          "execution_count": 5
        }
      ]
    },
    {
      "cell_type": "code",
      "source": [
        "sc.pl.scatter(adata, x='total_counts', y='pct_counts_mt')"
      ],
      "metadata": {
        "colab": {
          "base_uri": "https://localhost:8080/",
          "height": 320
        },
        "id": "MoJu6p_Da54S",
        "outputId": "f4eacd3b-c415-456e-f395-700533df313a"
      },
      "execution_count": null,
      "outputs": [
        {
          "output_type": "display_data",
          "data": {
            "text/plain": [
              "<Figure size 327.28x320 with 1 Axes>"
            ],
            "image/png": "[encoded data removed]"
          },
          "metadata": {
            "image/png": {
              "width": 290,
              "height": 303
            }
          }
        }
      ]
    },
    {
      "cell_type": "code",
      "source": [
        "adata"
      ],
      "metadata": {
        "colab": {
          "base_uri": "https://localhost:8080/"
        },
        "id": "cYwZIDpra96T",
        "outputId": "682e659b-5853-414b-cd7f-8ce702394637"
      },
      "execution_count": null,
      "outputs": [
        {
          "output_type": "execute_result",
          "data": {
            "text/plain": [
              "AnnData object with n_obs × n_vars = 120149 × 5431\n",
              "    obs: 'sample', 'type', 'ds', 'ps', 'n_genes', 'n_genes_by_counts', 'total_counts', 'total_counts_mt', 'pct_counts_mt'\n",
              "    var: 'n_cells', 'mt', 'n_cells_by_counts', 'mean_counts', 'pct_dropout_by_counts', 'total_counts', 'highly_variable', 'means', 'dispersions', 'dispersions_norm'\n",
              "    uns: 'hvg', 'log1p'"
            ]
          },
          "metadata": {},
          "execution_count": 7
        }
      ]
    },
    {
      "cell_type": "code",
      "source": [
        "adata.uns"
      ],
      "metadata": {
        "colab": {
          "base_uri": "https://localhost:8080/"
        },
        "id": "naf5OiFjbAdH",
        "outputId": "fc19ddb2-194f-404e-a7bf-60a6265cc121"
      },
      "execution_count": null,
      "outputs": [
        {
          "output_type": "execute_result",
          "data": {
            "text/plain": [
              "{'hvg': {'flavor': 'seurat'}, 'log1p': {}}"
            ]
          },
          "metadata": {},
          "execution_count": 8
        }
      ]
    },
    {
      "cell_type": "code",
      "source": [
        "sc.pp.regress_out(adata, ['total_counts', 'pct_counts_mt'])"
      ],
      "metadata": {
        "id": "r_FT-Xc3pWQr",
        "colab": {
          "base_uri": "https://localhost:8080/"
        },
        "outputId": "ba8edaf4-70b8-4be2-9f14-c9339950aaf6"
      },
      "execution_count": null,
      "outputs": [
        {
          "output_type": "stream",
          "name": "stdout",
          "text": [
            "regressing out ['total_counts', 'pct_counts_mt']\n",
            "    sparse input is densified and may lead to high memory use\n"
          ]
        }
      ]
    },
    {
      "cell_type": "code",
      "source": [
        "adata"
      ],
      "metadata": {
        "id": "9Y77VjB9XXUX"
      },
      "execution_count": null,
      "outputs": []
    },
    {
      "cell_type": "code",
      "source": [
        "sc.pp.scale(adata, max_value=10)\n",
        "adata"
      ],
      "metadata": {
        "id": "UC3ygOkjpY99"
      },
      "execution_count": null,
      "outputs": []
    },
    {
      "cell_type": "markdown",
      "source": [
        "### 主成分分析（PCA）\n",
        "これはデータの次元を削減して特徴を捉えるというものです"
      ],
      "metadata": {
        "id": "bLKLl_vQvBxk"
      }
    },
    {
      "cell_type": "code",
      "source": [
        "sc.tl.pca(adata, svd_solver='arpack')"
      ],
      "metadata": {
        "id": "HRVQe7ZepcQk"
      },
      "execution_count": null,
      "outputs": []
    },
    {
      "cell_type": "code",
      "source": [
        "sc.pl.pca(adata, color='Malat1')"
      ],
      "metadata": {
        "id": "FgpTdTTHpeMe"
      },
      "execution_count": null,
      "outputs": []
    },
    {
      "cell_type": "code",
      "source": [
        "sc.pl.pca_variance_ratio(adata, log=True)"
      ],
      "metadata": {
        "id": "f0KmBpKhrWB2"
      },
      "execution_count": null,
      "outputs": []
    },
    {
      "cell_type": "code",
      "source": [
        "adata.write(results_file)"
      ],
      "metadata": {
        "id": "kABU82GzPC1t"
      },
      "execution_count": null,
      "outputs": []
    },
    {
      "cell_type": "code",
      "source": [
        "adata"
      ],
      "metadata": {
        "id": "McRJq7Bhrs_Y"
      },
      "execution_count": null,
      "outputs": []
    },
    {
      "cell_type": "markdown",
      "source": [
        "### 近傍グラフの計算\n",
        "これは細胞間の距離（類似性や関連性）を数値化し、細胞間の関係をグラフ構造で表現することを目的としています"
      ],
      "metadata": {
        "id": "n2KFmuGHwemg"
      }
    },
    {
      "cell_type": "code",
      "source": [
        "sc.pp.neighbors(adata, n_neighbors=10, n_pcs=40)"
      ],
      "metadata": {
        "id": "IZ5lH8e-ruws"
      },
      "execution_count": null,
      "outputs": []
    },
    {
      "cell_type": "code",
      "source": [
        "sc.tl.umap(adata)"
      ],
      "metadata": {
        "id": "PtNnEySBtBIi"
      },
      "execution_count": null,
      "outputs": []
    },
    {
      "cell_type": "code",
      "source": [
        "sc.pl.umap(adata, color=['Malat1','Fth1','Cst3'])"
      ],
      "metadata": {
        "id": "5pZ5S6yYtLu3"
      },
      "execution_count": null,
      "outputs": []
    },
    {
      "cell_type": "code",
      "source": [
        "sc.pl.umap(adata, color=['Tmem119','Tyrobp','Plpp3'], use_raw=False)"
      ],
      "metadata": {
        "id": "gTnJ5PNTr3QP"
      },
      "execution_count": null,
      "outputs": []
    },
    {
      "cell_type": "code",
      "source": [
        "!pip install leidenalg"
      ],
      "metadata": {
        "id": "DO1RNWeGxyCM"
      },
      "execution_count": null,
      "outputs": []
    },
    {
      "cell_type": "code",
      "source": [
        "sc.tl.leiden(\n",
        "    adata,\n",
        "    resolution=0.9,\n",
        "    random_state=0,\n",
        "    n_iterations=2,\n",
        "    directed=False,\n",
        ")"
      ],
      "metadata": {
        "id": "J9LUrpW21Hb1"
      },
      "execution_count": null,
      "outputs": []
    },
    {
      "cell_type": "markdown",
      "source": [
        "### 近傍グラフのクラスタリング"
      ],
      "metadata": {
        "id": "cZP2O3vkouZq"
      }
    },
    {
      "cell_type": "code",
      "source": [
        "sc.pl.umap(adata, color=['leiden'])"
      ],
      "metadata": {
        "id": "mvR8FnIlxYec"
      },
      "execution_count": null,
      "outputs": []
    },
    {
      "cell_type": "code",
      "source": [
        "adata.write(results_file)\n",
        "adata"
      ],
      "metadata": {
        "id": "keeONowCx7yt"
      },
      "execution_count": null,
      "outputs": []
    },
    {
      "cell_type": "markdown",
      "source": [
        "今回のデータでは18個のクラスターに分類できることが上図よりわかります。\n",
        "しかし、それぞれのクラスターが何を表しているかはわかりません。そこで次でアノテーションすることにします。"
      ],
      "metadata": {
        "id": "jzbP6PjCpGSW"
      }
    },
    {
      "cell_type": "markdown",
      "source": [
        "## マーカー遺伝子から細胞型アノテーション\n",
        "ここからは[decoupler](https://decoupler-py.readthedocs.io/en/latest/)のチュートリアルに基づきます。\n",
        "マーカー遺伝子は様々な研究で発見され注釈が付けられており、それらを整理しているデータベースが存在します。それらを用いていきます。今回は主に[OmniPath](https://omnipathdb.org/)を使用します。\n",
        "\n"
      ],
      "metadata": {
        "id": "DL7LglcWyANe"
      }
    },
    {
      "cell_type": "code",
      "source": [
        "!pip install decoupler\n",
        "!pip install omnipath\n",
        "!pip install pypath-omnipath"
      ],
      "metadata": {
        "id": "WKAaAOy4BoIE",
        "colab": {
          "base_uri": "https://localhost:8080/"
        },
        "outputId": "0357a753-26b7-4fca-e2e2-3e930589dd20"
      },
      "execution_count": null,
      "outputs": [
        {
          "output_type": "stream",
          "name": "stdout",
          "text": [
            "Collecting decoupler\n",
            "  Downloading decoupler-1.6.0-py3-none-any.whl (95 kB)\n",
            "\u001b[?25l     \u001b[90m━━━━━━━━━━━━━━━━━━━━━━━━━━━━━━━━━━━━━━━━\u001b[0m \u001b[32m0.0/95.8 kB\u001b[0m \u001b[31m?\u001b[0m eta \u001b[36m-:--:--\u001b[0m\r\u001b[2K     \u001b[91m━━━━━━━━━━━━━━━━━━━━━━━━━━━━━━━━━━━━━━\u001b[0m\u001b[90m╺\u001b[0m\u001b[90m━\u001b[0m \u001b[32m92.2/95.8 kB\u001b[0m \u001b[31m2.8 MB/s\u001b[0m eta \u001b[36m0:00:01\u001b[0m\r\u001b[2K     \u001b[90m━━━━━━━━━━━━━━━━━━━━━━━━━━━━━━━━━━━━━━━━\u001b[0m \u001b[32m95.8/95.8 kB\u001b[0m \u001b[31m2.3 MB/s\u001b[0m eta \u001b[36m0:00:00\u001b[0m\n",
            "\u001b[?25hRequirement already satisfied: numba in /usr/local/lib/python3.10/dist-packages (from decoupler) (0.58.1)\n",
            "Requirement already satisfied: tqdm in /usr/local/lib/python3.10/dist-packages (from decoupler) (4.66.4)\n",
            "Requirement already satisfied: anndata in /usr/local/lib/python3.10/dist-packages (from decoupler) (0.10.7)\n",
            "Requirement already satisfied: typing-extensions in /usr/local/lib/python3.10/dist-packages (from decoupler) (4.11.0)\n",
            "Requirement already satisfied: array-api-compat!=1.5,>1.4 in /usr/local/lib/python3.10/dist-packages (from anndata->decoupler) (1.6)\n",
            "Requirement already satisfied: exceptiongroup in /usr/local/lib/python3.10/dist-packages (from anndata->decoupler) (1.2.1)\n",
            "Requirement already satisfied: h5py>=3.1 in /usr/local/lib/python3.10/dist-packages (from anndata->decoupler) (3.9.0)\n",
            "Requirement already satisfied: natsort in /usr/local/lib/python3.10/dist-packages (from anndata->decoupler) (8.4.0)\n",
            "Requirement already satisfied: numpy>=1.23 in /usr/local/lib/python3.10/dist-packages (from anndata->decoupler) (1.25.2)\n",
            "Requirement already satisfied: packaging>=20.0 in /usr/local/lib/python3.10/dist-packages (from anndata->decoupler) (24.0)\n",
            "Requirement already satisfied: pandas!=2.1.0rc0,!=2.1.2,>=1.4 in /usr/local/lib/python3.10/dist-packages (from anndata->decoupler) (2.0.3)\n",
            "Requirement already satisfied: scipy>1.8 in /usr/local/lib/python3.10/dist-packages (from anndata->decoupler) (1.11.4)\n",
            "Requirement already satisfied: llvmlite<0.42,>=0.41.0dev0 in /usr/local/lib/python3.10/dist-packages (from numba->decoupler) (0.41.1)\n",
            "Requirement already satisfied: python-dateutil>=2.8.2 in /usr/local/lib/python3.10/dist-packages (from pandas!=2.1.0rc0,!=2.1.2,>=1.4->anndata->decoupler) (2.8.2)\n",
            "Requirement already satisfied: pytz>=2020.1 in /usr/local/lib/python3.10/dist-packages (from pandas!=2.1.0rc0,!=2.1.2,>=1.4->anndata->decoupler) (2023.4)\n",
            "Requirement already satisfied: tzdata>=2022.1 in /usr/local/lib/python3.10/dist-packages (from pandas!=2.1.0rc0,!=2.1.2,>=1.4->anndata->decoupler) (2024.1)\n",
            "Requirement already satisfied: six>=1.5 in /usr/local/lib/python3.10/dist-packages (from python-dateutil>=2.8.2->pandas!=2.1.0rc0,!=2.1.2,>=1.4->anndata->decoupler) (1.16.0)\n",
            "Installing collected packages: decoupler\n",
            "Successfully installed decoupler-1.6.0\n",
            "Collecting omnipath\n",
            "  Downloading omnipath-1.0.8-py3-none-any.whl (68 kB)\n",
            "\u001b[2K     \u001b[90m━━━━━━━━━━━━━━━━━━━━━━━━━━━━━━━━━━━━━━━━\u001b[0m \u001b[32m68.9/68.9 kB\u001b[0m \u001b[31m2.0 MB/s\u001b[0m eta \u001b[36m0:00:00\u001b[0m\n",
            "\u001b[?25hRequirement already satisfied: attrs>=20.2.0 in /usr/local/lib/python3.10/dist-packages (from omnipath) (23.2.0)\n",
            "Collecting docrep>=0.3.1 (from omnipath)\n",
            "  Downloading docrep-0.3.2.tar.gz (33 kB)\n",
            "  Preparing metadata (setup.py) ... \u001b[?25l\u001b[?25hdone\n",
            "Requirement already satisfied: inflect>=4.1.0 in /usr/local/lib/python3.10/dist-packages (from omnipath) (7.0.0)\n",
            "Requirement already satisfied: packaging in /usr/local/lib/python3.10/dist-packages (from omnipath) (24.0)\n",
            "Requirement already satisfied: pandas>=1.2.0 in /usr/local/lib/python3.10/dist-packages (from omnipath) (2.0.3)\n",
            "Requirement already satisfied: requests>=2.24.0 in /usr/local/lib/python3.10/dist-packages (from omnipath) (2.31.0)\n",
            "Requirement already satisfied: tqdm>=4.51.0 in /usr/local/lib/python3.10/dist-packages (from omnipath) (4.66.4)\n",
            "Requirement already satisfied: typing-extensions>=3.7.4.3 in /usr/local/lib/python3.10/dist-packages (from omnipath) (4.11.0)\n",
            "Requirement already satisfied: urllib3>=1.26.0 in /usr/local/lib/python3.10/dist-packages (from omnipath) (2.0.7)\n",
            "Requirement already satisfied: wrapt>=1.12.0 in /usr/local/lib/python3.10/dist-packages (from omnipath) (1.14.1)\n",
            "Requirement already satisfied: six in /usr/local/lib/python3.10/dist-packages (from docrep>=0.3.1->omnipath) (1.16.0)\n",
            "Requirement already satisfied: pydantic>=1.9.1 in /usr/local/lib/python3.10/dist-packages (from inflect>=4.1.0->omnipath) (2.7.1)\n",
            "Requirement already satisfied: python-dateutil>=2.8.2 in /usr/local/lib/python3.10/dist-packages (from pandas>=1.2.0->omnipath) (2.8.2)\n",
            "Requirement already satisfied: pytz>=2020.1 in /usr/local/lib/python3.10/dist-packages (from pandas>=1.2.0->omnipath) (2023.4)\n",
            "Requirement already satisfied: tzdata>=2022.1 in /usr/local/lib/python3.10/dist-packages (from pandas>=1.2.0->omnipath) (2024.1)\n",
            "Requirement already satisfied: numpy>=1.21.0 in /usr/local/lib/python3.10/dist-packages (from pandas>=1.2.0->omnipath) (1.25.2)\n",
            "Requirement already satisfied: charset-normalizer<4,>=2 in /usr/local/lib/python3.10/dist-packages (from requests>=2.24.0->omnipath) (3.3.2)\n",
            "Requirement already satisfied: idna<4,>=2.5 in /usr/local/lib/python3.10/dist-packages (from requests>=2.24.0->omnipath) (3.7)\n",
            "Requirement already satisfied: certifi>=2017.4.17 in /usr/local/lib/python3.10/dist-packages (from requests>=2.24.0->omnipath) (2024.2.2)\n",
            "Requirement already satisfied: annotated-types>=0.4.0 in /usr/local/lib/python3.10/dist-packages (from pydantic>=1.9.1->inflect>=4.1.0->omnipath) (0.6.0)\n",
            "Requirement already satisfied: pydantic-core==2.18.2 in /usr/local/lib/python3.10/dist-packages (from pydantic>=1.9.1->inflect>=4.1.0->omnipath) (2.18.2)\n",
            "Building wheels for collected packages: docrep\n",
            "  Building wheel for docrep (setup.py) ... \u001b[?25l\u001b[?25hdone\n",
            "  Created wheel for docrep: filename=docrep-0.3.2-py3-none-any.whl size=19878 sha256=00ccf6f8e04e417d6035dad3d1974ff70b66a5c3d5f982db7c0c926add243d75\n",
            "  Stored in directory: /root/.cache/pip/wheels/c3/64/48/03c38d8d906159eaa210b3c548fdb590eb3e2a4a5745ae2172\n",
            "Successfully built docrep\n",
            "Installing collected packages: docrep, omnipath\n",
            "Successfully installed docrep-0.3.2 omnipath-1.0.8\n",
            "Collecting pypath-omnipath\n",
            "  Downloading pypath_omnipath-0.16.10-py3-none-any.whl (1.1 MB)\n",
            "\u001b[2K     \u001b[90m━━━━━━━━━━━━━━━━━━━━━━━━━━━━━━━━━━━━━━━━\u001b[0m \u001b[32m1.1/1.1 MB\u001b[0m \u001b[31m8.3 MB/s\u001b[0m eta \u001b[36m0:00:00\u001b[0m\n",
            "\u001b[?25hRequirement already satisfied: PyYAML in /usr/local/lib/python3.10/dist-packages (from pypath-omnipath) (6.0.1)\n",
            "Requirement already satisfied: beautifulsoup4 in /usr/local/lib/python3.10/dist-packages (from pypath-omnipath) (4.12.3)\n",
            "Requirement already satisfied: certifi>=2023.7.22 in /usr/local/lib/python3.10/dist-packages (from pypath-omnipath) (2024.2.2)\n",
            "Requirement already satisfied: cryptography>=41.0.4 in /usr/local/lib/python3.10/dist-packages (from pypath-omnipath) (42.0.5)\n",
            "Collecting dill (from pypath-omnipath)\n",
            "  Downloading dill-0.3.8-py3-none-any.whl (116 kB)\n",
            "\u001b[2K     \u001b[90m━━━━━━━━━━━━━━━━━━━━━━━━━━━━━━━━━━━━━━━━\u001b[0m \u001b[32m116.3/116.3 kB\u001b[0m \u001b[31m8.7 MB/s\u001b[0m eta \u001b[36m0:00:00\u001b[0m\n",
            "\u001b[?25hRequirement already satisfied: future in /usr/local/lib/python3.10/dist-packages (from pypath-omnipath) (0.18.3)\n",
            "Collecting glom (from pypath-omnipath)\n",
            "  Downloading glom-23.5.0-py3-none-any.whl (102 kB)\n",
            "\u001b[2K     \u001b[90m━━━━━━━━━━━━━━━━━━━━━━━━━━━━━━━━━━━━━━━━\u001b[0m \u001b[32m102.7/102.7 kB\u001b[0m \u001b[31m9.5 MB/s\u001b[0m eta \u001b[36m0:00:00\u001b[0m\n",
            "\u001b[?25hRequirement already satisfied: lxml in /usr/local/lib/python3.10/dist-packages (from pypath-omnipath) (4.9.4)\n",
            "Requirement already satisfied: matplotlib in /usr/local/lib/python3.10/dist-packages (from pypath-omnipath) (3.7.1)\n",
            "Requirement already satisfied: numpy in /usr/local/lib/python3.10/dist-packages (from pypath-omnipath) (1.25.2)\n",
            "Requirement already satisfied: openpyxl in /usr/local/lib/python3.10/dist-packages (from pypath-omnipath) (3.1.2)\n",
            "Requirement already satisfied: pandas in /usr/local/lib/python3.10/dist-packages (from pypath-omnipath) (2.0.3)\n",
            "Requirement already satisfied: psutil in /usr/local/lib/python3.10/dist-packages (from pypath-omnipath) (5.9.5)\n",
            "Collecting pycurl (from pypath-omnipath)\n",
            "  Downloading pycurl-7.45.3-cp310-cp310-manylinux_2_28_x86_64.whl (4.6 MB)\n",
            "\u001b[2K     \u001b[90m━━━━━━━━━━━━━━━━━━━━━━━━━━━━━━━━━━━━━━━━\u001b[0m \u001b[32m4.6/4.6 MB\u001b[0m \u001b[31m17.0 MB/s\u001b[0m eta \u001b[36m0:00:00\u001b[0m\n",
            "\u001b[?25hCollecting pypath-common>=0.2.0 (from pypath-omnipath)\n",
            "  Downloading pypath_common-0.2.0.tar.gz (49 kB)\n",
            "\u001b[2K     \u001b[90m━━━━━━━━━━━━━━━━━━━━━━━━━━━━━━━━━━━━━━━━\u001b[0m \u001b[32m49.2/49.2 kB\u001b[0m \u001b[31m5.3 MB/s\u001b[0m eta \u001b[36m0:00:00\u001b[0m\n",
            "\u001b[?25h  Installing build dependencies ... \u001b[?25l\u001b[?25hdone\n",
            "  Getting requirements to build wheel ... \u001b[?25l\u001b[?25hdone\n",
            "  Preparing metadata (pyproject.toml) ... \u001b[?25l\u001b[?25hdone\n",
            "Collecting pyreadr (from pypath-omnipath)\n",
            "  Downloading pyreadr-0.5.0-cp310-cp310-manylinux_2_17_x86_64.manylinux2014_x86_64.whl (440 kB)\n",
            "\u001b[2K     \u001b[90m━━━━━━━━━━━━━━━━━━━━━━━━━━━━━━━━━━━━━━━━\u001b[0m \u001b[32m440.9/440.9 kB\u001b[0m \u001b[31m19.2 MB/s\u001b[0m eta \u001b[36m0:00:00\u001b[0m\n",
            "\u001b[?25hCollecting pysftp<0.3.0,>=0.2.9 (from pypath-omnipath)\n",
            "  Downloading pysftp-0.2.9.tar.gz (25 kB)\n",
            "  Preparing metadata (setup.py) ... \u001b[?25l\u001b[?25hdone\n",
            "Collecting rdata (from pypath-omnipath)\n",
            "  Downloading rdata-0.11.2-py3-none-any.whl (46 kB)\n",
            "\u001b[2K     \u001b[90m━━━━━━━━━━━━━━━━━━━━━━━━━━━━━━━━━━━━━━━━\u001b[0m \u001b[32m46.5/46.5 kB\u001b[0m \u001b[31m4.6 MB/s\u001b[0m eta \u001b[36m0:00:00\u001b[0m\n",
            "\u001b[?25hRequirement already satisfied: requests in /usr/local/lib/python3.10/dist-packages (from pypath-omnipath) (2.31.0)\n",
            "Requirement already satisfied: scipy>=1.9.0 in /usr/local/lib/python3.10/dist-packages (from pypath-omnipath) (1.11.4)\n",
            "Requirement already satisfied: sqlparse in /usr/local/lib/python3.10/dist-packages (from pypath-omnipath) (0.5.0)\n",
            "Requirement already satisfied: tabulate in /usr/local/lib/python3.10/dist-packages (from pypath-omnipath) (0.9.0)\n",
            "Collecting timeloop (from pypath-omnipath)\n",
            "  Downloading timeloop-1.0.2.tar.gz (2.9 kB)\n",
            "  Preparing metadata (setup.py) ... \u001b[?25l\u001b[?25hdone\n",
            "Requirement already satisfied: toml in /usr/local/lib/python3.10/dist-packages (from pypath-omnipath) (0.10.2)\n",
            "Requirement already satisfied: tornado>=3.6.6 in /usr/local/lib/python3.10/dist-packages (from pypath-omnipath) (6.3.3)\n",
            "Requirement already satisfied: tqdm in /usr/local/lib/python3.10/dist-packages (from pypath-omnipath) (4.66.4)\n",
            "Requirement already satisfied: typing_extensions in /usr/local/lib/python3.10/dist-packages (from pypath-omnipath) (4.11.0)\n",
            "Requirement already satisfied: xlrd in /usr/local/lib/python3.10/dist-packages (from pypath-omnipath) (2.0.1)\n",
            "Requirement already satisfied: cffi>=1.12 in /usr/local/lib/python3.10/dist-packages (from cryptography>=41.0.4->pypath-omnipath) (1.16.0)\n",
            "Requirement already satisfied: platformdirs in /usr/local/lib/python3.10/dist-packages (from pypath-common>=0.2.0->pypath-omnipath) (4.2.1)\n",
            "Collecting paramiko>=1.17 (from pysftp<0.3.0,>=0.2.9->pypath-omnipath)\n",
            "  Downloading paramiko-3.4.0-py3-none-any.whl (225 kB)\n",
            "\u001b[2K     \u001b[90m━━━━━━━━━━━━━━━━━━━━━━━━━━━━━━━━━━━━━━━━\u001b[0m \u001b[32m225.9/225.9 kB\u001b[0m \u001b[31m17.3 MB/s\u001b[0m eta \u001b[36m0:00:00\u001b[0m\n",
            "\u001b[?25hRequirement already satisfied: soupsieve>1.2 in /usr/local/lib/python3.10/dist-packages (from beautifulsoup4->pypath-omnipath) (2.5)\n",
            "Collecting boltons>=19.3.0 (from glom->pypath-omnipath)\n",
            "  Downloading boltons-24.0.0-py3-none-any.whl (191 kB)\n",
            "\u001b[2K     \u001b[90m━━━━━━━━━━━━━━━━━━━━━━━━━━━━━━━━━━━━━━━━\u001b[0m \u001b[32m191.7/191.7 kB\u001b[0m \u001b[31m16.9 MB/s\u001b[0m eta \u001b[36m0:00:00\u001b[0m\n",
            "\u001b[?25hRequirement already satisfied: attrs in /usr/local/lib/python3.10/dist-packages (from glom->pypath-omnipath) (23.2.0)\n",
            "Collecting face==20.1.1 (from glom->pypath-omnipath)\n",
            "  Downloading face-20.1.1-py3-none-any.whl (51 kB)\n",
            "\u001b[2K     \u001b[90m━━━━━━━━━━━━━━━━━━━━━━━━━━━━━━━━━━━━━━━━\u001b[0m \u001b[32m51.1/51.1 kB\u001b[0m \u001b[31m4.7 MB/s\u001b[0m eta \u001b[36m0:00:00\u001b[0m\n",
            "\u001b[?25hRequirement already satisfied: contourpy>=1.0.1 in /usr/local/lib/python3.10/dist-packages (from matplotlib->pypath-omnipath) (1.2.1)\n",
            "Requirement already satisfied: cycler>=0.10 in /usr/local/lib/python3.10/dist-packages (from matplotlib->pypath-omnipath) (0.12.1)\n",
            "Requirement already satisfied: fonttools>=4.22.0 in /usr/local/lib/python3.10/dist-packages (from matplotlib->pypath-omnipath) (4.51.0)\n",
            "Requirement already satisfied: kiwisolver>=1.0.1 in /usr/local/lib/python3.10/dist-packages (from matplotlib->pypath-omnipath) (1.4.5)\n",
            "Requirement already satisfied: packaging>=20.0 in /usr/local/lib/python3.10/dist-packages (from matplotlib->pypath-omnipath) (24.0)\n",
            "Requirement already satisfied: pillow>=6.2.0 in /usr/local/lib/python3.10/dist-packages (from matplotlib->pypath-omnipath) (9.4.0)\n",
            "Requirement already satisfied: pyparsing>=2.3.1 in /usr/local/lib/python3.10/dist-packages (from matplotlib->pypath-omnipath) (3.1.2)\n",
            "Requirement already satisfied: python-dateutil>=2.7 in /usr/local/lib/python3.10/dist-packages (from matplotlib->pypath-omnipath) (2.8.2)\n",
            "Requirement already satisfied: et-xmlfile in /usr/local/lib/python3.10/dist-packages (from openpyxl->pypath-omnipath) (1.1.0)\n",
            "Requirement already satisfied: pytz>=2020.1 in /usr/local/lib/python3.10/dist-packages (from pandas->pypath-omnipath) (2023.4)\n",
            "Requirement already satisfied: tzdata>=2022.1 in /usr/local/lib/python3.10/dist-packages (from pandas->pypath-omnipath) (2024.1)\n",
            "Requirement already satisfied: xarray in /usr/local/lib/python3.10/dist-packages (from rdata->pypath-omnipath) (2023.7.0)\n",
            "Requirement already satisfied: charset-normalizer<4,>=2 in /usr/local/lib/python3.10/dist-packages (from requests->pypath-omnipath) (3.3.2)\n",
            "Requirement already satisfied: idna<4,>=2.5 in /usr/local/lib/python3.10/dist-packages (from requests->pypath-omnipath) (3.7)\n",
            "Requirement already satisfied: urllib3<3,>=1.21.1 in /usr/local/lib/python3.10/dist-packages (from requests->pypath-omnipath) (2.0.7)\n",
            "Requirement already satisfied: pycparser in /usr/local/lib/python3.10/dist-packages (from cffi>=1.12->cryptography>=41.0.4->pypath-omnipath) (2.22)\n",
            "Collecting bcrypt>=3.2 (from paramiko>=1.17->pysftp<0.3.0,>=0.2.9->pypath-omnipath)\n",
            "  Downloading bcrypt-4.1.3-cp39-abi3-manylinux_2_28_x86_64.whl (283 kB)\n",
            "\u001b[2K     \u001b[90m━━━━━━━━━━━━━━━━━━━━━━━━━━━━━━━━━━━━━━━━\u001b[0m \u001b[32m283.7/283.7 kB\u001b[0m \u001b[31m23.0 MB/s\u001b[0m eta \u001b[36m0:00:00\u001b[0m\n",
            "\u001b[?25hCollecting pynacl>=1.5 (from paramiko>=1.17->pysftp<0.3.0,>=0.2.9->pypath-omnipath)\n",
            "  Downloading PyNaCl-1.5.0-cp36-abi3-manylinux_2_17_x86_64.manylinux2014_x86_64.manylinux_2_24_x86_64.whl (856 kB)\n",
            "\u001b[2K     \u001b[90m━━━━━━━━━━━━━━━━━━━━━━━━━━━━━━━━━━━━━━━━\u001b[0m \u001b[32m856.7/856.7 kB\u001b[0m \u001b[31m34.0 MB/s\u001b[0m eta \u001b[36m0:00:00\u001b[0m\n",
            "\u001b[?25hRequirement already satisfied: six>=1.5 in /usr/local/lib/python3.10/dist-packages (from python-dateutil>=2.7->matplotlib->pypath-omnipath) (1.16.0)\n",
            "Building wheels for collected packages: pypath-common, pysftp, timeloop\n",
            "  Building wheel for pypath-common (pyproject.toml) ... \u001b[?25l\u001b[?25hdone\n",
            "  Created wheel for pypath-common: filename=pypath_common-0.2.0-py3-none-any.whl size=54966 sha256=d10ed6077d4180f1d1a93ccc04e1a289e8a1c29383199a31e0c51ff56a4527d6\n",
            "  Stored in directory: /root/.cache/pip/wheels/0e/44/ea/387e2b3166702ab87a6b21299cb21ac6c3bf94f50936091b3d\n",
            "  Building wheel for pysftp (setup.py) ... \u001b[?25l\u001b[?25hdone\n",
            "  Created wheel for pysftp: filename=pysftp-0.2.9-py3-none-any.whl size=15495 sha256=2bd1ac29dafac423b1462fc17a018b844d4beac1af2f1cfa54cb300ed44357ac\n",
            "  Stored in directory: /root/.cache/pip/wheels/64/52/87/2683826a06d053045a9bd11f05850e26bbdbfbf821ee6735f0\n",
            "  Building wheel for timeloop (setup.py) ... \u001b[?25l\u001b[?25hdone\n",
            "  Created wheel for timeloop: filename=timeloop-1.0.2-py3-none-any.whl size=3702 sha256=3d3a95fa0b67fb1bb04fc98eb73e2ac52388287cc3ece1f4e64c868ed21049c9\n",
            "  Stored in directory: /root/.cache/pip/wheels/8b/df/32/f72b9fd897c185cd70103331f70e4cb66e3df1de24bd476548\n",
            "Successfully built pypath-common pysftp timeloop\n",
            "Installing collected packages: timeloop, pypath-common, pycurl, dill, boltons, bcrypt, pynacl, face, pyreadr, paramiko, glom, rdata, pysftp, pypath-omnipath\n",
            "Successfully installed bcrypt-4.1.3 boltons-24.0.0 dill-0.3.8 face-20.1.1 glom-23.5.0 paramiko-3.4.0 pycurl-7.45.3 pynacl-1.5.0 pypath-common-0.2.0 pypath-omnipath-0.16.10 pyreadr-0.5.0 pysftp-0.2.9 rdata-0.11.2 timeloop-1.0.2\n"
          ]
        }
      ]
    },
    {
      "cell_type": "code",
      "source": [
        "import decoupler as dc"
      ],
      "metadata": {
        "id": "wPFjkFBKBrtU"
      },
      "execution_count": null,
      "outputs": []
    },
    {
      "cell_type": "code",
      "source": [
        "# Query Omnipath and get PanglaoDB\n",
        "markers = dc.get_resource('PanglaoDB')\n",
        "markers"
      ],
      "metadata": {
        "id": "py_kn6AXqZJJ"
      },
      "execution_count": null,
      "outputs": []
    },
    {
      "cell_type": "code",
      "source": [
        "# Filter by canonical_marker and mouse\n",
        "markers = markers[markers['mouse'] & markers['canonical_marker'] & (markers['mouse_sensitivity'] > 0.5)]\n",
        "\n",
        "# Remove duplicated entries\n",
        "markers = markers[~markers.duplicated(['cell_type', 'genesymbol'])]\n",
        "markers"
      ],
      "metadata": {
        "id": "5UzMsclRqeAs"
      },
      "execution_count": null,
      "outputs": []
    },
    {
      "cell_type": "markdown",
      "source": [
        "genesymbolがすべて大文字であり、これはadataの中での遺伝子の名前の形式（一文字目のみ大文字）と合致しないため形式をそろえます。"
      ],
      "metadata": {
        "id": "hQf0rbEKS1NA"
      }
    },
    {
      "cell_type": "code",
      "source": [
        "markers['genesymbol'] = markers['genesymbol'].apply(lambda x: x.capitalize())\n",
        "markers"
      ],
      "metadata": {
        "id": "1l-Yf3rpSawL"
      },
      "execution_count": null,
      "outputs": []
    },
    {
      "cell_type": "markdown",
      "source": [
        "### Over Representation Analysis (ora) method\n",
        "oraを実行します。最終スコアは、取得された p 値を対数変換したものです。"
      ],
      "metadata": {
        "id": "gc2L2UzrrttK"
      }
    },
    {
      "cell_type": "code",
      "source": [
        "dc.run_ora(\n",
        "    mat=adata,\n",
        "    net=markers,\n",
        "    source='cell_type',\n",
        "    target='genesymbol',\n",
        "    min_n=3,\n",
        "    verbose=True\n",
        ")"
      ],
      "metadata": {
        "id": "NemOzxQ9CFJm"
      },
      "execution_count": null,
      "outputs": []
    },
    {
      "cell_type": "code",
      "source": [
        "adata.obsm['ora_estimate']"
      ],
      "metadata": {
        "id": "OVk3718qPL68"
      },
      "execution_count": null,
      "outputs": []
    },
    {
      "cell_type": "markdown",
      "source": [
        "### 視覚化"
      ],
      "metadata": {
        "id": "9RFFFKa1sfwC"
      }
    },
    {
      "cell_type": "code",
      "source": [
        "acts = dc.get_acts(adata, obsm_key='ora_estimate')\n",
        "\n",
        "# We need to remove inf and set them to the maximum value observed for pvals=0\n",
        "acts_v = acts.X.ravel()\n",
        "max_e = np.nanmax(acts_v[np.isfinite(acts_v)])\n",
        "acts.X[~np.isfinite(acts.X)] = max_e\n",
        "\n",
        "acts"
      ],
      "metadata": {
        "id": "ql6vbdqcCHCi"
      },
      "execution_count": null,
      "outputs": []
    },
    {
      "cell_type": "code",
      "source": [
        "sc.pl.umap(acts, color=['Enterocytes', 'leiden'], cmap='RdBu_r')\n",
        "sc.pl.violin(acts, keys=['Enterocytes'], groupby='leiden')"
      ],
      "metadata": {
        "id": "LL6kQuqRCJT5"
      },
      "execution_count": null,
      "outputs": []
    },
    {
      "cell_type": "markdown",
      "source": [
        "### アノテーション"
      ],
      "metadata": {
        "id": "R_Pmkly-sxJr"
      }
    },
    {
      "cell_type": "markdown",
      "source": [
        "クラスターごとの「マーカー」細胞タイプを識別します"
      ],
      "metadata": {
        "id": "MnRYbqAus7J-"
      }
    },
    {
      "cell_type": "code",
      "source": [
        "df = dc.rank_sources_groups(acts, groupby='leiden', reference='rest', method='t-test_overestim_var')\n",
        "df"
      ],
      "metadata": {
        "id": "fndMmRzkCLYa"
      },
      "execution_count": null,
      "outputs": []
    },
    {
      "cell_type": "markdown",
      "source": [
        "クラスターごとに予測された上位 3 つの細胞タイプを抽出します。"
      ],
      "metadata": {
        "id": "9__J0M6ltBGi"
      }
    },
    {
      "cell_type": "code",
      "source": [
        "n_ctypes = 3\n",
        "ctypes_dict = df.groupby('group').head(n_ctypes).groupby('group')['names'].apply(lambda x: list(x)).to_dict()\n",
        "ctypes_dict"
      ],
      "metadata": {
        "id": "MJThHZMECVC4"
      },
      "execution_count": null,
      "outputs": []
    },
    {
      "cell_type": "markdown",
      "source": [
        "視覚化します。"
      ],
      "metadata": {
        "id": "NS351ZmBtDaY"
      }
    },
    {
      "cell_type": "code",
      "source": [
        "sc.pl.matrixplot(acts, ctypes_dict, 'leiden', dendrogram=True, #standard_scale='var',\n",
        "                 colorbar_title='Z-scaled scores', cmap='RdBu_r')\n",
        "# 元はmean expression"
      ],
      "metadata": {
        "id": "xelMwI3GCXMW"
      },
      "execution_count": null,
      "outputs": []
    },
    {
      "cell_type": "code",
      "source": [
        "sc.pl.violin(acts, keys=['Oligodendrocytes', 'Monocytes', 'T cells', 'Basophils', 'Alveolar macrophages'], groupby='leiden')"
      ],
      "metadata": {
        "id": "NqYbVQRPCZWl"
      },
      "execution_count": null,
      "outputs": []
    },
    {
      "cell_type": "markdown",
      "source": [
        "アノテーションを実行します。"
      ],
      "metadata": {
        "id": "S3l7u8LltIQv"
      }
    },
    {
      "cell_type": "code",
      "source": [
        "annotation_dict = df.groupby('group').head(1).set_index('group')['names'].to_dict()\n",
        "annotation_dict"
      ],
      "metadata": {
        "id": "rieNi0iBPlEa"
      },
      "execution_count": null,
      "outputs": []
    },
    {
      "cell_type": "markdown",
      "source": [
        "先ほど出てきた近傍グラフに注釈をつけます。"
      ],
      "metadata": {
        "id": "Q9GA1aeltTK9"
      }
    },
    {
      "cell_type": "code",
      "source": [
        "# Add cell type column based on annotation\n",
        "adata.obs['cell_type'] = [annotation_dict[clust] for clust in adata.obs['leiden']]\n",
        "\n",
        "# Visualize\n",
        "sc.pl.umap(adata, color='cell_type')"
      ],
      "metadata": {
        "id": "9yQjTT3-T5x5"
      },
      "execution_count": null,
      "outputs": []
    },
    {
      "cell_type": "markdown",
      "source": [
        "## パスウェイ解析\n",
        ">https://olvtools.com/rnaseq/help/pathway-enrichment-analysis\n",
        "パスウェイとは、遺伝子やタンパク質や化合物等の相互作用を表現したものです。代謝経路やシグナル伝達系やタンパク質間相互作用、遺伝子の制御関係等の情報を含みます。パスウェイ解析を行うと、ある遺伝子のリストについて、遺伝子全体と比較して有意に多く観測されるパスウェイを検出できます。\n",
        "\n",
        "\n"
      ],
      "metadata": {
        "id": "jzndFE5VtyLd"
      }
    },
    {
      "cell_type": "markdown",
      "source": [
        "[PROGENy](https://saezlab.github.io/progeny/)はパスウェイとその標的遺伝子の厳選されたコレクションと各相互作用の重みを含む包括的なリソースです。"
      ],
      "metadata": {
        "id": "z_o3uoqXu5Kk"
      }
    },
    {
      "cell_type": "code",
      "source": [
        "progeny = dc.get_progeny(organism='Mus musculus', top=500)\n",
        "progeny"
      ],
      "metadata": {
        "id": "j4v4uDwNh55-"
      },
      "execution_count": null,
      "outputs": []
    },
    {
      "cell_type": "markdown",
      "source": [
        "### 多変量線形モデル (MLM) によるアクティビティ推論\n"
      ],
      "metadata": {
        "id": "FXimie9qvYbd"
      }
    },
    {
      "cell_type": "code",
      "source": [
        "dc.run_mlm(\n",
        "    mat=adata,\n",
        "    net=progeny,\n",
        "    source='source',\n",
        "    target='target',\n",
        "    weight='weight',\n",
        "    verbose=True\n",
        ")"
      ],
      "metadata": {
        "id": "J8WcsFbSiFjN"
      },
      "execution_count": null,
      "outputs": []
    },
    {
      "cell_type": "code",
      "source": [
        "adata.obsm['mlm_estimate']"
      ],
      "metadata": {
        "id": "828Pvh_-iJvH"
      },
      "execution_count": null,
      "outputs": []
    },
    {
      "cell_type": "markdown",
      "source": [
        "### 視覚化"
      ],
      "metadata": {
        "id": "00WJ1dnXvnLV"
      }
    },
    {
      "cell_type": "code",
      "source": [
        "acts = dc.get_acts(adata, obsm_key='mlm_estimate')\n",
        "acts"
      ],
      "metadata": {
        "id": "iUp1L9n4ifJn"
      },
      "execution_count": null,
      "outputs": []
    },
    {
      "cell_type": "code",
      "source": [
        "sc.pl.umap(acts, color=['Trail', 'cell_type'], cmap='RdBu_r', vcenter=0)\n",
        "sc.pl.violin(acts, keys=['Trail'], groupby='cell_type', rotation=90)\n"
      ],
      "metadata": {
        "id": "KjPbghTUjBn1"
      },
      "execution_count": null,
      "outputs": []
    },
    {
      "cell_type": "code",
      "source": [
        "sc.pl.matrixplot(acts, var_names=acts.var_names, groupby='cell_type', dendrogram=True, standard_scale='var',\n",
        "                 colorbar_title='Z-scaled scores', cmap='RdBu_r')"
      ],
      "metadata": {
        "id": "29U76SU_jQmj"
      },
      "execution_count": null,
      "outputs": []
    },
    {
      "cell_type": "code",
      "source": [
        "sc.pl.violin(acts, keys=['JAK-STAT'], groupby='cell_type', rotation=90)"
      ],
      "metadata": {
        "id": "t3pNyoCJjbwL"
      },
      "execution_count": null,
      "outputs": []
    },
    {
      "cell_type": "markdown",
      "source": [
        "## 転写因子活性の推定\n",
        "これにより、計測が容易な遺伝子発現の変化から転写因子の状態を予測し、重要な転写因子を同定することができます。\n",
        "[CollecTRI](https://github.com/saezlab/CollecTRI)を用います。"
      ],
      "metadata": {
        "id": "4aF4qLcSwUrW"
      }
    },
    {
      "cell_type": "code",
      "source": [
        "net = dc.get_collectri(organism='Mus musculus', split_complexes=False)\n",
        "net"
      ],
      "metadata": {
        "id": "k2LJRfBejprY"
      },
      "execution_count": null,
      "outputs": []
    },
    {
      "cell_type": "markdown",
      "source": [
        "### univariate linear model (ULM)による推論"
      ],
      "metadata": {
        "id": "lfhImvxYxgTr"
      }
    },
    {
      "cell_type": "code",
      "source": [
        "dc.run_ulm(\n",
        "    mat=adata,\n",
        "    net=net,\n",
        "    source='source',\n",
        "    target='target',\n",
        "    weight='weight',\n",
        "    verbose=True\n",
        ")"
      ],
      "metadata": {
        "id": "qtIKANx5jxwC"
      },
      "execution_count": null,
      "outputs": []
    },
    {
      "cell_type": "code",
      "source": [
        "adata.obsm['ulm_estimate']"
      ],
      "metadata": {
        "id": "B-kFjuiej1lT"
      },
      "execution_count": null,
      "outputs": []
    },
    {
      "cell_type": "markdown",
      "source": [
        "### 視覚化"
      ],
      "metadata": {
        "id": "drSM3327xqKZ"
      }
    },
    {
      "cell_type": "code",
      "source": [
        "acts = dc.get_acts(adata, obsm_key='ulm_estimate')\n",
        "acts"
      ],
      "metadata": {
        "id": "ELj_6GMAj5Qb"
      },
      "execution_count": null,
      "outputs": []
    },
    {
      "cell_type": "code",
      "source": [
        "sc.pl.umap(acts, color=['Pax8', 'cell_type'], cmap='RdBu_r', vcenter=0)\n",
        "sc.pl.violin(acts, keys=['Pax8'], groupby='cell_type', rotation=90)"
      ],
      "metadata": {
        "id": "p5JeyNrBj88v"
      },
      "execution_count": null,
      "outputs": []
    },
    {
      "cell_type": "code",
      "source": [
        "sc.pl.umap(adata, color=['Lrrfip1', 'cell_type'])\n",
        "sc.pl.violin(adata, keys=['Lrrfip1'], groupby='cell_type', rotation=90)"
      ],
      "metadata": {
        "id": "zv1_25CrklU0"
      },
      "execution_count": null,
      "outputs": []
    },
    {
      "cell_type": "markdown",
      "source": [
        "細胞タイプごとに上位の転写因子を特定します。"
      ],
      "metadata": {
        "id": "wgGLbMO5yd2H"
      }
    },
    {
      "cell_type": "code",
      "source": [
        "df = dc.rank_sources_groups(acts, groupby='cell_type', reference='rest', method='t-test_overestim_var')\n",
        "df"
      ],
      "metadata": {
        "id": "HoVoB7vsx741"
      },
      "execution_count": null,
      "outputs": []
    },
    {
      "cell_type": "code",
      "source": [
        "n_markers = 3\n",
        "source_markers = df.groupby('group').head(n_markers).groupby('group')['names'].apply(lambda x: list(x)).to_dict()\n",
        "source_markers"
      ],
      "metadata": {
        "id": "8UdvfUHKyDx8"
      },
      "execution_count": null,
      "outputs": []
    },
    {
      "cell_type": "code",
      "source": [
        "sc.pl.matrixplot(acts, source_markers, 'cell_type', dendrogram=True, standard_scale='var',\n",
        "                 colorbar_title='Z-scaled scores', cmap='RdBu_r')"
      ],
      "metadata": {
        "id": "3pg9etQdyHFU"
      },
      "execution_count": null,
      "outputs": []
    },
    {
      "cell_type": "markdown",
      "source": [
        "## 生物学的用語、分子プロセス推定\n",
        "[MSigDB](https://www.gsea-msigdb.org/gsea/msigdb/)は、さまざまな生物学的プロセスに注釈が付けられた遺伝子セットのコレクションを含むリソースです。"
      ],
      "metadata": {
        "id": "BmnQMmvU0VCd"
      }
    },
    {
      "cell_type": "code",
      "source": [
        "msigdb = dc.get_resource('MSigDB')\n",
        "msigdb"
      ],
      "metadata": {
        "id": "4FLlHSIcxUC2"
      },
      "execution_count": null,
      "outputs": []
    },
    {
      "cell_type": "code",
      "source": [
        "# Filter by hallmark\n",
        "msigdb = msigdb[msigdb['collection']=='hallmark']\n",
        "\n",
        "# Remove duplicated entries\n",
        "msigdb = msigdb[~msigdb.duplicated(['geneset', 'genesymbol'])]\n",
        "msigdb"
      ],
      "metadata": {
        "id": "yNlCFa-UxaaO"
      },
      "execution_count": null,
      "outputs": []
    },
    {
      "cell_type": "code",
      "source": [
        "# Translate targets\n",
        "Mus_musculus_msigdb = dc.translate_net(msigdb, target_organism = 'Mus musculus', unique_by = ('geneset', 'genesymbol'))\n",
        "Mus_musculus_msigdb"
      ],
      "metadata": {
        "id": "hQ4okVZOxfUi"
      },
      "execution_count": null,
      "outputs": []
    },
    {
      "cell_type": "markdown",
      "source": [
        "### Representation Analysis (ORA)"
      ],
      "metadata": {
        "id": "mVg9i4d31102"
      }
    },
    {
      "cell_type": "code",
      "source": [
        "dc.run_ora(\n",
        "    mat=adata,\n",
        "    net=Mus_musculus_msigdb,\n",
        "    source='geneset',\n",
        "    target='genesymbol',\n",
        "    min_n=3,\n",
        "    verbose=True\n",
        ")"
      ],
      "metadata": {
        "id": "wlV_30hjNGmG"
      },
      "execution_count": null,
      "outputs": []
    },
    {
      "cell_type": "code",
      "source": [
        "adata.obsm['ora_estimate']"
      ],
      "metadata": {
        "id": "wwVE_n6LWGFW"
      },
      "execution_count": null,
      "outputs": []
    },
    {
      "cell_type": "markdown",
      "source": [
        "### 視覚化"
      ],
      "metadata": {
        "id": "Cen7ktMO16d0"
      }
    },
    {
      "cell_type": "code",
      "source": [
        "acts = dc.get_acts(adata, obsm_key='ora_estimate')\n",
        "\n",
        "# We need to remove inf and set them to the maximum value observed\n",
        "acts_v = acts.X.ravel()\n",
        "max_e = np.nanmax(acts_v[np.isfinite(acts_v)])\n",
        "acts.X[~np.isfinite(acts.X)] = max_e\n",
        "\n",
        "acts"
      ],
      "metadata": {
        "id": "zhkSi-k5WKWF"
      },
      "execution_count": null,
      "outputs": []
    },
    {
      "cell_type": "code",
      "source": [
        "sc.pl.umap(acts, color=['HALLMARK_HEDGEHOG_SIGNALING', 'cell_type'], cmap='RdBu_r')\n",
        "sc.pl.violin(acts, keys=['HALLMARK_HEDGEHOG_SIGNALING'], groupby='cell_type', rotation=90)"
      ],
      "metadata": {
        "id": "HkpNLG_EWNZ2"
      },
      "execution_count": null,
      "outputs": []
    },
    {
      "cell_type": "markdown",
      "source": [
        "細胞タイプごとに上位の遺伝子セットを特定します。"
      ],
      "metadata": {
        "id": "E8sZzBgC2CeW"
      }
    },
    {
      "cell_type": "code",
      "source": [
        "df = dc.rank_sources_groups(acts, groupby='cell_type', reference='rest', method='t-test_overestim_var')\n",
        "df"
      ],
      "metadata": {
        "id": "ZQKwWIzCWja_"
      },
      "execution_count": null,
      "outputs": []
    },
    {
      "cell_type": "code",
      "source": [
        "n_markers = 3\n",
        "source_markers = df.groupby('group').head(n_markers).groupby('group')['names'].apply(lambda x: list(x)).to_dict()\n",
        "source_markers"
      ],
      "metadata": {
        "id": "EEzh2IaYWt8C"
      },
      "execution_count": null,
      "outputs": []
    },
    {
      "cell_type": "code",
      "source": [
        "sc.pl.matrixplot(acts, source_markers, 'cell_type', dendrogram=True, standard_scale='var',\n",
        "                 colorbar_title='Z-scaled scores', cmap='RdBu_r')"
      ],
      "metadata": {
        "id": "Kj6pJr4ZWyM1"
      },
      "execution_count": null,
      "outputs": []
    },
    {
      "cell_type": "markdown",
      "source": [
        "HALLMARK_があると図がわかりにくいので除いたものを作ります。HALLMARK_は心の目で見てください\n"
      ],
      "metadata": {
        "id": "CAGaqULULe2i"
      }
    },
    {
      "cell_type": "code",
      "source": [
        "# Rename\n",
        "Mus_musculus_msigdb.loc[:, 'geneset'] = [name.split('HALLMARK_')[1] if len(name.split('HALLMARK_')) > 1 else name for name in Mus_musculus_msigdb['geneset']]\n",
        "Mus_musculus_msigdb"
      ],
      "metadata": {
        "id": "wRp-FJZBLeCf"
      },
      "execution_count": null,
      "outputs": []
    },
    {
      "cell_type": "code",
      "source": [
        "#　oraによる推論\n",
        "dc.run_ora(\n",
        "    mat=adata,\n",
        "    net=Mus_musculus_msigdb,\n",
        "    source='geneset',\n",
        "    target='genesymbol',\n",
        "    min_n=3,\n",
        "    verbose=True\n",
        ")\n",
        "adata.obsm['ora_estimate']\n",
        "\n",
        "#　視覚化\n",
        "acts = dc.get_acts(adata, obsm_key='ora_estimate')\n",
        "\n",
        "sc.pl.violin(acts, keys=['HEDGEHOG_SIGNALING'], groupby='cell_type', rotation=90)\n",
        "\n",
        "# We need to remove inf and set them to the maximum value observed\n",
        "acts_v = acts.X.ravel()\n",
        "max_e = np.nanmax(acts_v[np.isfinite(acts_v)])\n",
        "acts.X[~np.isfinite(acts.X)] = max_e\n",
        "\n",
        "# 上位の遺伝子セット特定\n",
        "df = dc.rank_sources_groups(acts, groupby='cell_type', reference='rest', method='t-test_overestim_var')\n",
        "\n",
        "n_markers = 3\n",
        "source_markers = df.groupby('group').head(n_markers).groupby('group')['names'].apply(lambda x: list(x)).to_dict()\n",
        "sc.pl.matrixplot(acts, source_markers, 'cell_type', dendrogram=True, standard_scale='var',\n",
        "                 colorbar_title='Z-scaled scores', cmap='RdBu_r')"
      ],
      "metadata": {
        "id": "lVGG47FNL9iO"
      },
      "execution_count": null,
      "outputs": []
    },
    {
      "cell_type": "markdown",
      "source": [
        "## WD_CDとAPT_IDの比較"
      ],
      "metadata": {
        "id": "gyhs35Tz8YeK"
      }
    },
    {
      "cell_type": "markdown",
      "source": [
        "WD_CDで同じ操作を行います。まずは前処理です。"
      ],
      "metadata": {
        "id": "msYLP8hS_7SK"
      }
    },
    {
      "cell_type": "markdown",
      "source": [
        "### 前処理"
      ],
      "metadata": {
        "id": "ODvfQ3-JBXMH"
      }
    },
    {
      "cell_type": "code",
      "source": [
        "# ダウンロード\n",
        "file_path = \"/content/drive/MyDrive/filtered_gene_bc_matrices/hg19/\"\n",
        "\n",
        "adata = sc.read_10x_mtx(\n",
        "    file_path,  # the directory with the `.mtx` file\n",
        "    var_names='gene_symbols',                # use gene symbols for the variable names (variables-axis index)\n",
        "    cache=True,\n",
        "    prefix=\"WT_CD_\")                            # write a cache file for faster subsequent reading\n",
        "      # this is unnecessary if using `var_names='gene_ids'` in `sc.read_10x_mtx`\n",
        "adata.var_names_make_unique()\n",
        "\n",
        "#　前処理\n",
        "sc.pp.filter_cells(adata, min_genes=200)\n",
        "sc.pp.filter_genes(adata, min_cells=3)\n",
        "\n",
        "#　ミトコンドリアでフィルタリング\n",
        "adata.var['mt'] = adata.var_names.str.startswith('mt-')  # annotate the group of mitochondrial genes as 'mt'\n",
        "sc.pp.calculate_qc_metrics(adata, qc_vars=['mt'], percent_top=None, log1p=False, inplace=True)\n",
        "\n",
        "adata = adata[adata.obs.n_genes_by_counts < 7000, :]\n",
        "adata = adata[adata.obs.pct_counts_mt < 20, :]\n",
        "\n",
        "#　正規化\n",
        "sc.pp.normalize_total(adata, target_sum=1e4)\n",
        "sc.pp.log1p(adata)\n",
        "\n",
        "#　HVGの検出とフィルタリング\n",
        "sc.pp.highly_variable_genes(adata, min_mean=0.0125, max_mean=3, min_disp=0.5)\n",
        "adata.raw = adata\n",
        "adata = adata[:, adata.var.highly_variable]\n",
        "sc.pp.regress_out(adata, ['total_counts', 'pct_counts_mt'])\n",
        "sc.pp.scale(adata, max_value=10)\n",
        "\n",
        "#　PCA\n",
        "sc.tl.pca(adata, svd_solver='arpack')\n",
        "adata.write(results_file)\n",
        "\n",
        "#　近傍グラフ\n",
        "sc.pp.neighbors(adata, n_neighbors=10, n_pcs=40)\n",
        "sc.tl.umap(adata)\n",
        "sc.tl.leiden(adata)\n",
        "sc.pl.umap(adata, color=['leiden'])"
      ],
      "metadata": {
        "id": "asF5Gby38-lQ"
      },
      "execution_count": null,
      "outputs": []
    },
    {
      "cell_type": "markdown",
      "source": [
        "### アノテーション"
      ],
      "metadata": {
        "id": "23ry87U4ADR6"
      }
    },
    {
      "cell_type": "code",
      "source": [
        "#　Over Representation Analysis (ora) method\n",
        "dc.run_ora(\n",
        "    mat=adata,\n",
        "    net=markers,\n",
        "    source='cell_type',\n",
        "    target='genesymbol',\n",
        "    min_n=3,\n",
        "    verbose=True\n",
        ")\n",
        "adata.obsm['ora_estimate']\n",
        "\n",
        "#　視覚化\n",
        "acts = dc.get_acts(adata, obsm_key='ora_estimate')\n",
        "\n",
        "# We need to remove inf and set them to the maximum value observed for pvals=0\n",
        "acts_v = acts.X.ravel()\n",
        "max_e = np.nanmax(acts_v[np.isfinite(acts_v)])\n",
        "acts.X[~np.isfinite(acts.X)] = max_e\n",
        "\n",
        "sc.pl.umap(acts, color=['Enterocytes', 'leiden'], cmap='RdBu_r')\n",
        "sc.pl.violin(acts, keys=['Enterocytes'], groupby='leiden')\n",
        "\n",
        "#　アノテーション\n",
        "df = dc.rank_sources_groups(acts, groupby='leiden', reference='rest', method='t-test_overestim_var')\n",
        "\n",
        "#　視覚化\n",
        "sc.pl.matrixplot(acts, ctypes_dict, 'leiden', dendrogram=True, standard_scale='var',\n",
        "                 colorbar_title='Z-scaled scores', cmap='RdBu_r')\n",
        "\n",
        "annotation_dict = df.groupby('group').head(1).set_index('group')['names'].to_dict()\n",
        "\n",
        "#　近傍グラフに注釈をつける\n",
        "adata.obs['cell_type'] = [annotation_dict[clust] for clust in adata.obs['leiden']]\n",
        "\n",
        "# Visualize\n",
        "sc.pl.umap(adata, color='cell_type')"
      ],
      "metadata": {
        "id": "uVQIDK5CAIwu"
      },
      "execution_count": null,
      "outputs": []
    },
    {
      "cell_type": "code",
      "source": [
        "annotation_dict"
      ],
      "metadata": {
        "id": "vFj6FzudLKpj"
      },
      "execution_count": null,
      "outputs": []
    },
    {
      "cell_type": "markdown",
      "source": [
        "### パスウェイ解析"
      ],
      "metadata": {
        "id": "SfX_3k_XBRCx"
      }
    },
    {
      "cell_type": "code",
      "source": [
        "#　MLMによる推論\n",
        "dc.run_mlm(\n",
        "    mat=adata,\n",
        "    net=progeny,\n",
        "    source='source',\n",
        "    target='target',\n",
        "    weight='weight',\n",
        "    verbose=True\n",
        ")\n",
        "\n",
        "adata.obsm['mlm_estimate']\n",
        "\n",
        "#　視覚化\n",
        "acts = dc.get_acts(adata, obsm_key='mlm_estimate')\n",
        "\n",
        "sc.pl.umap(acts, color=['Trail', 'cell_type'], cmap='RdBu_r', vcenter=0)\n",
        "sc.pl.violin(acts, keys=['Trail'], groupby='cell_type', rotation=90)\n",
        "sc.pl.matrixplot(acts, var_names=acts.var_names, groupby='cell_type', dendrogram=True, standard_scale='var',\n",
        "                 colorbar_title='Z-scaled scores', cmap='RdBu_r')\n",
        "\n",
        "sc.pl.violin(acts, keys=['JAK-STAT'], groupby='cell_type', rotation=90)"
      ],
      "metadata": {
        "id": "8GZwDKxiB7FB"
      },
      "execution_count": null,
      "outputs": []
    },
    {
      "cell_type": "markdown",
      "source": [
        "### 転写因子活性推定"
      ],
      "metadata": {
        "id": "F6JUqy8nBhFF"
      }
    },
    {
      "cell_type": "code",
      "source": [
        "#　ULMによる推論\n",
        "dc.run_ulm(\n",
        "    mat=adata,\n",
        "    net=net,\n",
        "    source='source',\n",
        "    target='target',\n",
        "    weight='weight',\n",
        "    verbose=True\n",
        ")\n",
        "\n",
        "adata.obsm['ulm_estimate']\n",
        "\n",
        "#　視覚化\n",
        "acts = dc.get_acts(adata, obsm_key='ulm_estimate')\n",
        "sc.pl.umap(acts, color=['Pax8', 'cell_type'], cmap='RdBu_r', vcenter=0)\n",
        "sc.pl.violin(acts, keys=['Pax8'], groupby='cell_type', rotation=90)\n",
        "\n",
        "#　上位の転写因子特定\n",
        "df = dc.rank_sources_groups(acts, groupby='cell_type', reference='rest', method='t-test_overestim_var')\n",
        "\n",
        "n_markers = 3\n",
        "source_markers = df.groupby('group').head(n_markers).groupby('group')['names'].apply(lambda x: list(x)).to_dict()\n",
        "sc.pl.matrixplot(acts, source_markers, 'cell_type', dendrogram=True, standard_scale='var',\n",
        "                 colorbar_title='Z-scaled scores', cmap='RdBu_r')"
      ],
      "metadata": {
        "id": "hmhkSKqPCV6I"
      },
      "execution_count": null,
      "outputs": []
    },
    {
      "cell_type": "code",
      "source": [
        "source_markers"
      ],
      "metadata": {
        "id": "gFmMNB8tUNK-"
      },
      "execution_count": null,
      "outputs": []
    },
    {
      "cell_type": "markdown",
      "source": [
        "### 生物学的用語、分子プロセス推定"
      ],
      "metadata": {
        "id": "kSn5D0kYDutG"
      }
    },
    {
      "cell_type": "code",
      "source": [
        "#　oraによる推論\n",
        "dc.run_ora(\n",
        "    mat=adata,\n",
        "    net=Mus_musculus_msigdb,\n",
        "    source='geneset',\n",
        "    target='genesymbol',\n",
        "    min_n=3,\n",
        "    verbose=True\n",
        ")\n",
        "adata.obsm['ora_estimate']\n",
        "\n",
        "#　視覚化\n",
        "acts = dc.get_acts(adata, obsm_key='ora_estimate')\n",
        "\n",
        "# We need to remove inf and set them to the maximum value observed\n",
        "acts_v = acts.X.ravel()\n",
        "max_e = np.nanmax(acts_v[np.isfinite(acts_v)])\n",
        "acts.X[~np.isfinite(acts.X)] = max_e\n",
        "\n",
        "sc.pl.umap(acts, color=['HEDGEHOG_SIGNALING', 'cell_type'], cmap='RdBu_r')\n",
        "sc.pl.violin(acts, keys=['HEDGEHOG_SIGNALING'], groupby='cell_type', rotation=90)\n",
        "\n",
        "# 上位の遺伝子セット特定\n",
        "df = dc.rank_sources_groups(acts, groupby='cell_type', reference='rest', method='t-test_overestim_var')\n",
        "\n",
        "n_markers = 3\n",
        "source_markers = df.groupby('group').head(n_markers).groupby('group')['names'].apply(lambda x: list(x)).to_dict()\n",
        "sc.pl.matrixplot(acts, source_markers, 'cell_type', dendrogram=True, standard_scale='var',\n",
        "                 colorbar_title='Z-scaled scores', cmap='RdBu_r')"
      ],
      "metadata": {
        "id": "VQQm0oQJD0ld"
      },
      "execution_count": null,
      "outputs": []
    },
    {
      "cell_type": "code",
      "source": [
        "source_markers"
      ],
      "metadata": {
        "id": "YJAr_dXDYevz"
      },
      "execution_count": null,
      "outputs": []
    },
    {
      "cell_type": "markdown",
      "source": [
        "# Bulk functional analysis\n",
        "これは単一細胞ではなく、組織、器官、または細胞の集合から取得された遺伝子発現データに基づくものです。シングルセル解析とは異なり、細胞集団全体としての遺伝子発現の平均的なビューを捉えるため、細胞間の異質性は捉えられませんが、より大規模で統合的な解析をすることができます。"
      ],
      "metadata": {
        "id": "-H5aIE6135fa"
      }
    },
    {
      "cell_type": "markdown",
      "source": [
        "## anndata作成\n",
        "ここで用いるデータは生カウントなので、最初のデータをデータフレームの形でダウンロードします。そののちデータフレームをまとめて[anndata](https://anndata.readthedocs.io/en/latest/generated/anndata.AnnData.html)を作成します。"
      ],
      "metadata": {
        "id": "4ghNCnXv54PH"
      }
    },
    {
      "cell_type": "code",
      "source": [
        "#データフレームを読み込む\n",
        "df1 = pd.read_csv('/content/drive/MyDrive/single cell RNA-seq_write/WT_CD.tsv', sep='\\t', index_col=0)\n",
        "df2 = pd.read_csv('/content/drive/MyDrive/single cell RNA-seq_write/WT_ID.tsv', sep='\\t', index_col=0)\n",
        "df3 = pd.read_csv('/content/drive/MyDrive/single cell RNA-seq_write/APT_CD.tsv', sep='\\t', index_col=0)\n",
        "df4 = pd.read_csv('/content/drive/MyDrive/single cell RNA-seq_write/APT_ID.tsv', sep='\\t', index_col=0)"
      ],
      "metadata": {
        "id": "g1hRrHVF39dG"
      },
      "execution_count": null,
      "outputs": []
    },
    {
      "cell_type": "markdown",
      "source": [
        "細胞ごとでなく個体ごとを見るので足します。"
      ],
      "metadata": {
        "id": "yIDc5D4U6ax4"
      }
    },
    {
      "cell_type": "code",
      "source": [
        "row_sum_1 = df1.sum(axis=0)\n",
        "row_sum_2 = df2.sum(axis=0)\n",
        "row_sum_3 = df3.sum(axis=0)\n",
        "row_sum_4 = df4.sum(axis=0)\n",
        "\n",
        "df1_sum = pd.DataFrame(row_sum_1).transpose()\n",
        "df2_sum = pd.DataFrame(row_sum_2).transpose()\n",
        "df3_sum = pd.DataFrame(row_sum_3).transpose()\n",
        "df4_sum = pd.DataFrame(row_sum_4).transpose()\n",
        "\n",
        "df1_sum.index = ['WD_CD']\n",
        "df2_sum.index = ['WD_ID']\n",
        "df3_sum.index = ['APT_CD']\n",
        "df4_sum.index = ['APT_ID']"
      ],
      "metadata": {
        "id": "jdgSnzek4Id7"
      },
      "execution_count": null,
      "outputs": []
    },
    {
      "cell_type": "code",
      "source": [
        "df1_sum"
      ],
      "metadata": {
        "id": "qKnzODt44KGZ"
      },
      "execution_count": null,
      "outputs": []
    },
    {
      "cell_type": "code",
      "source": [
        "# データフレームを縦方向に結合し、NaNを0にする\n",
        "adata = pd.concat([df1_sum, df2_sum, df3_sum, df4_sum], axis=0).fillna(0)\n",
        "adata"
      ],
      "metadata": {
        "id": "VUdBsq5J4L_r"
      },
      "execution_count": null,
      "outputs": []
    },
    {
      "cell_type": "code",
      "source": [
        "from anndata import AnnData"
      ],
      "metadata": {
        "id": "2GGwxQ_G4Wm7"
      },
      "execution_count": null,
      "outputs": []
    },
    {
      "cell_type": "code",
      "source": [
        "# Transform to AnnData object\n",
        "adata = AnnData(adata, dtype=np.float32)\n",
        "adata.var_names_make_unique()\n",
        "adata"
      ],
      "metadata": {
        "id": "gSFWagfK4PGQ"
      },
      "execution_count": null,
      "outputs": []
    },
    {
      "cell_type": "markdown",
      "source": [
        "このデータで元論文が言いたいことは”We demonstrate that microglial ecto-5’-nucleotidase (CD73) is reduced in the hypothyroid sta”\n",
        "\n",
        "https://www.ncbi.nlm.nih.gov/geo/query/acc.cgi?acc=GSE219130\n",
        "\n",
        "なので、APT_IDでCD73の発現量が低下していることを示したい。 よって最もしたい比較はWD_CDとAPT_IDになるのではないかと思われる。 https://docs.google.com/document/d/1nOTVrneBJE6ej6GvOKlnDhrkztg5ai-nzgy4ieTbJj8/edit\n",
        "しかしながら、WD_CDとAPT_IDの２つの比較はできない。なぜなら２つの状態の比較をしたいなら４つ以上のサンプルが必要らしいからだ。そこでWD_CD, WD_ID, APT_CDをcondition(wild), APT_IDをtreatmentとして比較をおこなう。"
      ],
      "metadata": {
        "id": "AkxYMlHa9SlE"
      }
    },
    {
      "cell_type": "code",
      "source": [
        "# データフレームの作成\n",
        "df = pd.DataFrame({'condition': ['control','control','control', 'treatment']}, index=['WD_CD','WD_ID','APT_CD', 'APT_ID'])\n",
        "adata.obs = df\n",
        "adata.obs"
      ],
      "metadata": {
        "id": "55-t8TWy4af_"
      },
      "execution_count": null,
      "outputs": []
    },
    {
      "cell_type": "markdown",
      "source": [
        "## 前処理"
      ],
      "metadata": {
        "id": "XT7LYMAv6-eJ"
      }
    },
    {
      "cell_type": "code",
      "source": [
        "dc.plot_filter_by_expr(adata, group='condition', min_count=35, min_total_count= 50, large_n=1, min_prop=1)"
      ],
      "metadata": {
        "id": "qMjy_IuT4dmD"
      },
      "execution_count": null,
      "outputs": []
    },
    {
      "cell_type": "code",
      "source": [
        "# Obtain genes that pass the thresholds\n",
        "genes = dc.filter_by_expr(adata, group='condition', min_count=35, min_total_count=50, large_n=1, min_prop=1)\n",
        "\n",
        "# Filter by these genes\n",
        "adata = adata[:, genes].copy()\n",
        "adata"
      ],
      "metadata": {
        "id": "6dXROc-K4fPe"
      },
      "execution_count": null,
      "outputs": []
    },
    {
      "cell_type": "markdown",
      "source": [
        "## 発現差解析(DEA,DEG)\n",
        "ここでは[PyDESeq2](https://pydeseq2.readthedocs.io/en/latest/)を用います。"
      ],
      "metadata": {
        "id": "ENKawVBi8fVS"
      }
    },
    {
      "cell_type": "code",
      "source": [
        "!pip install pydeseq2"
      ],
      "metadata": {
        "id": "Rp4IvFoR4q1n",
        "colab": {
          "base_uri": "https://localhost:8080/"
        },
        "outputId": "dfd0001b-fb70-4726-db6d-88c85d0cf214"
      },
      "execution_count": null,
      "outputs": [
        {
          "output_type": "stream",
          "name": "stdout",
          "text": [
            "Collecting pydeseq2\n",
            "  Downloading pydeseq2-0.4.9-py3-none-any.whl (44 kB)\n",
            "\u001b[?25l     \u001b[90m━━━━━━━━━━━━━━━━━━━━━━━━━━━━━━━━━━━━━━━━\u001b[0m \u001b[32m0.0/44.3 kB\u001b[0m \u001b[31m?\u001b[0m eta \u001b[36m-:--:--\u001b[0m\r\u001b[2K     \u001b[90m━━━━━━━━━━━━━━━━━━━━━━━━━━━━━━━━━━━━━━━━\u001b[0m \u001b[32m44.3/44.3 kB\u001b[0m \u001b[31m1.2 MB/s\u001b[0m eta \u001b[36m0:00:00\u001b[0m\n",
            "\u001b[?25hRequirement already satisfied: anndata>=0.8.0 in /usr/local/lib/python3.10/dist-packages (from pydeseq2) (0.10.7)\n",
            "Requirement already satisfied: numpy>=1.23.0 in /usr/local/lib/python3.10/dist-packages (from pydeseq2) (1.25.2)\n",
            "Requirement already satisfied: pandas>=1.4.0 in /usr/local/lib/python3.10/dist-packages (from pydeseq2) (2.0.3)\n",
            "Requirement already satisfied: scikit-learn>=1.1.0 in /usr/local/lib/python3.10/dist-packages (from pydeseq2) (1.2.2)\n",
            "Requirement already satisfied: scipy>=1.11.0 in /usr/local/lib/python3.10/dist-packages (from pydeseq2) (1.11.4)\n",
            "Requirement already satisfied: matplotlib>=3.6.2 in /usr/local/lib/python3.10/dist-packages (from pydeseq2) (3.7.1)\n",
            "Requirement already satisfied: array-api-compat!=1.5,>1.4 in /usr/local/lib/python3.10/dist-packages (from anndata>=0.8.0->pydeseq2) (1.6)\n",
            "Requirement already satisfied: exceptiongroup in /usr/local/lib/python3.10/dist-packages (from anndata>=0.8.0->pydeseq2) (1.2.1)\n",
            "Requirement already satisfied: h5py>=3.1 in /usr/local/lib/python3.10/dist-packages (from anndata>=0.8.0->pydeseq2) (3.9.0)\n",
            "Requirement already satisfied: natsort in /usr/local/lib/python3.10/dist-packages (from anndata>=0.8.0->pydeseq2) (8.4.0)\n",
            "Requirement already satisfied: packaging>=20.0 in /usr/local/lib/python3.10/dist-packages (from anndata>=0.8.0->pydeseq2) (24.0)\n",
            "Requirement already satisfied: contourpy>=1.0.1 in /usr/local/lib/python3.10/dist-packages (from matplotlib>=3.6.2->pydeseq2) (1.2.1)\n",
            "Requirement already satisfied: cycler>=0.10 in /usr/local/lib/python3.10/dist-packages (from matplotlib>=3.6.2->pydeseq2) (0.12.1)\n",
            "Requirement already satisfied: fonttools>=4.22.0 in /usr/local/lib/python3.10/dist-packages (from matplotlib>=3.6.2->pydeseq2) (4.51.0)\n",
            "Requirement already satisfied: kiwisolver>=1.0.1 in /usr/local/lib/python3.10/dist-packages (from matplotlib>=3.6.2->pydeseq2) (1.4.5)\n",
            "Requirement already satisfied: pillow>=6.2.0 in /usr/local/lib/python3.10/dist-packages (from matplotlib>=3.6.2->pydeseq2) (9.4.0)\n",
            "Requirement already satisfied: pyparsing>=2.3.1 in /usr/local/lib/python3.10/dist-packages (from matplotlib>=3.6.2->pydeseq2) (3.1.2)\n",
            "Requirement already satisfied: python-dateutil>=2.7 in /usr/local/lib/python3.10/dist-packages (from matplotlib>=3.6.2->pydeseq2) (2.8.2)\n",
            "Requirement already satisfied: pytz>=2020.1 in /usr/local/lib/python3.10/dist-packages (from pandas>=1.4.0->pydeseq2) (2023.4)\n",
            "Requirement already satisfied: tzdata>=2022.1 in /usr/local/lib/python3.10/dist-packages (from pandas>=1.4.0->pydeseq2) (2024.1)\n",
            "Requirement already satisfied: joblib>=1.1.1 in /usr/local/lib/python3.10/dist-packages (from scikit-learn>=1.1.0->pydeseq2) (1.4.2)\n",
            "Requirement already satisfied: threadpoolctl>=2.0.0 in /usr/local/lib/python3.10/dist-packages (from scikit-learn>=1.1.0->pydeseq2) (3.5.0)\n",
            "Requirement already satisfied: six>=1.5 in /usr/local/lib/python3.10/dist-packages (from python-dateutil>=2.7->matplotlib>=3.6.2->pydeseq2) (1.16.0)\n",
            "Installing collected packages: pydeseq2\n",
            "Successfully installed pydeseq2-0.4.9\n"
          ]
        }
      ]
    },
    {
      "cell_type": "code",
      "source": [
        "# Import DESeq2\n",
        "from pydeseq2.dds import DeseqDataSet, DefaultInference\n",
        "from pydeseq2.ds import DeseqStats"
      ],
      "metadata": {
        "id": "3c80Yad84hDS"
      },
      "execution_count": null,
      "outputs": []
    },
    {
      "cell_type": "code",
      "source": [
        "# Build DESeq2 object\n",
        "inference = DefaultInference(n_cpus=8)\n",
        "dds = DeseqDataSet(\n",
        "    adata=adata,\n",
        "    design_factors='condition',\n",
        "    refit_cooks=True,\n",
        "    inference=inference,\n",
        ")"
      ],
      "metadata": {
        "id": "C_T9rPNZ4uYK"
      },
      "execution_count": null,
      "outputs": []
    },
    {
      "cell_type": "code",
      "source": [
        "# Compute LFCs\n",
        "dds.deseq2()"
      ],
      "metadata": {
        "id": "1isAwFp14vjv"
      },
      "execution_count": null,
      "outputs": []
    },
    {
      "cell_type": "code",
      "source": [
        "# Extract contrast\n",
        "stat_res = DeseqStats(\n",
        "    dds,\n",
        "    contrast=[\"condition\", 'treatment', 'control'],\n",
        "    inference=inference\n",
        ")"
      ],
      "metadata": {
        "id": "SVornGHC4xX-"
      },
      "execution_count": null,
      "outputs": []
    },
    {
      "cell_type": "code",
      "source": [
        "# Compute Wald test\n",
        "stat_res.summary()"
      ],
      "metadata": {
        "id": "JJQQpYNk4zNo"
      },
      "execution_count": null,
      "outputs": []
    },
    {
      "cell_type": "markdown",
      "source": [
        "結果は以下のようになります。"
      ],
      "metadata": {
        "id": "_Ro9jfwS86Jg"
      }
    },
    {
      "cell_type": "code",
      "source": [
        "# Extract results\n",
        "results_df = stat_res.results_df\n",
        "results_df"
      ],
      "metadata": {
        "id": "ClcBDnh040nH"
      },
      "execution_count": null,
      "outputs": []
    },
    {
      "cell_type": "code",
      "source": [
        "# 'padj'列の値が0.01より小さく、かつnullでない行のみを選択\n",
        "filtered_df = results_df[(results_df['padj'] < 0.01) & (results_df['padj'] > 0.0001) & (results_df['padj'].notnull())]\n",
        "filtered_df"
      ],
      "metadata": {
        "id": "IBK2igWnpQ9T"
      },
      "execution_count": null,
      "outputs": []
    },
    {
      "cell_type": "code",
      "source": [
        "!pip install adjustText"
      ],
      "metadata": {
        "id": "x0xxIyMu42H2"
      },
      "execution_count": null,
      "outputs": []
    },
    {
      "cell_type": "code",
      "source": [
        "dc.plot_volcano_df(\n",
        "    results_df,\n",
        "    x='log2FoldChange',\n",
        "    y='padj',\n",
        "    top=50,\n",
        "    figsize=(5, 5)\n",
        ")"
      ],
      "metadata": {
        "id": "OxjrI2n943cl"
      },
      "execution_count": null,
      "outputs": []
    },
    {
      "cell_type": "code",
      "source": [
        "dc.plot_volcano_df(\n",
        "    results_df,\n",
        "    x='log2FoldChange',\n",
        "    y='padj',\n",
        "    sign_thr = 0.5,\n",
        "    lFCs_limit = -20,\n",
        "    top=20,\n",
        "    figsize=(5, 5)\n",
        ")"
      ],
      "metadata": {
        "id": "HmlM2-6o_yJg"
      },
      "execution_count": null,
      "outputs": []
    },
    {
      "cell_type": "markdown",
      "source": [
        "treatment.vs.controlのt値"
      ],
      "metadata": {
        "id": "PBuasQTDBlSV"
      }
    },
    {
      "cell_type": "code",
      "source": [
        "mat = results_df[['stat']].T.rename(index={'stat': 'treatment.vs.control'})\n",
        "mat"
      ],
      "metadata": {
        "id": "4hwM7WBo45YL"
      },
      "execution_count": null,
      "outputs": []
    },
    {
      "cell_type": "markdown",
      "source": [
        "## 転写因子活性の推定\n",
        "さきほどと同じく[CollectTRI]https://github.com/saezlab/CollecTRI)を用います。"
      ],
      "metadata": {
        "id": "niML2Z2HBvA2"
      }
    },
    {
      "cell_type": "code",
      "source": [
        "collectri = dc.get_collectri(organism='Mus musculus', split_complexes=False)\n",
        "collectri"
      ],
      "metadata": {
        "id": "1KbNhGcq4873"
      },
      "execution_count": null,
      "outputs": []
    },
    {
      "cell_type": "code",
      "source": [
        "# Infer TF activities with ulm\n",
        "tf_acts, tf_pvals = dc.run_ulm(mat=mat, net=collectri, verbose=True)\n",
        "tf_acts"
      ],
      "metadata": {
        "id": "RsphKc0n4-t7"
      },
      "execution_count": null,
      "outputs": []
    },
    {
      "cell_type": "markdown",
      "source": [
        "上位の活性/不活性転写因子について取得したスコアをプロットします。"
      ],
      "metadata": {
        "id": "zjxajd3DCPrv"
      }
    },
    {
      "cell_type": "code",
      "source": [
        "dc.plot_barplot(\n",
        "    acts=tf_acts,\n",
        "    contrast='treatment.vs.control',\n",
        "    top=25,\n",
        "    vertical=True,\n",
        "    figsize=(3, 6)\n",
        ")"
      ],
      "metadata": {
        "id": "ruu6UepT5AKU"
      },
      "execution_count": null,
      "outputs": []
    },
    {
      "cell_type": "markdown",
      "source": [
        "TF のネットワーク をプロットし、アクティビティとターゲット遺伝子発現ごとにノードを色分けします。"
      ],
      "metadata": {
        "id": "i0akfVnPKuT6"
      }
    },
    {
      "cell_type": "code",
      "source": [
        "dc.plot_network(\n",
        "    net=collectri,\n",
        "    obs=mat,\n",
        "    act=tf_acts,\n",
        "    n_sources=['Pou3f2', 'E4f1', 'Nrf1', 'Pitx3'],\n",
        "    n_targets=20,\n",
        "    node_size=120,\n",
        "    figsize=(7, 7),\n",
        "    c_pos_w='darkgreen',\n",
        "    c_neg_w='darkred',\n",
        "    vcenter=True\n",
        ")"
      ],
      "metadata": {
        "id": "PDbLt8uS5BwO"
      },
      "execution_count": null,
      "outputs": []
    },
    {
      "cell_type": "code",
      "source": [
        "# Extract logFCs and pvals\n",
        "logFCs = results_df[['log2FoldChange']].T.rename(index={'log2FoldChange': 'treatment.vs.control'})\n",
        "pvals = results_df[['padj']].T.rename(index={'padj': 'treatment.vs.control'})\n",
        "\n",
        "# Plot\n",
        "dc.plot_volcano(\n",
        "    logFCs,\n",
        "    pvals,\n",
        "    'treatment.vs.control',\n",
        "    name='Nrf1',\n",
        "    net=collectri,\n",
        "    top=10,\n",
        "    sign_thr=1.5,\n",
        "    lFCs_thr=0.5\n",
        ")"
      ],
      "metadata": {
        "id": "wA4EJ2-d5Dju"
      },
      "execution_count": null,
      "outputs": []
    },
    {
      "cell_type": "markdown",
      "source": [
        "## パスウェイ解析"
      ],
      "metadata": {
        "id": "VzRXltyXMFaF"
      }
    },
    {
      "cell_type": "code",
      "source": [
        "# Retrieve PROGENy model weights\n",
        "progeny = dc.get_progeny(organism='Mus musculus', top=500)\n",
        "progeny"
      ],
      "metadata": {
        "id": "sz_-knr85G1J"
      },
      "execution_count": null,
      "outputs": []
    },
    {
      "cell_type": "code",
      "source": [
        "# Infer pathway activities with mlm\n",
        "pathway_acts, pathway_pvals = dc.run_mlm(mat=mat, net=progeny, verbose=True)\n",
        "pathway_acts"
      ],
      "metadata": {
        "id": "OKlLDWSe5II4"
      },
      "execution_count": null,
      "outputs": []
    },
    {
      "cell_type": "code",
      "source": [
        "dc.plot_barplot(\n",
        "    pathway_acts,\n",
        "    'treatment.vs.control',\n",
        "    top=25,\n",
        "    vertical=False,\n",
        "    figsize=(6, 3)\n",
        ")"
      ],
      "metadata": {
        "id": "dsF5otJd5KT2"
      },
      "execution_count": null,
      "outputs": []
    },
    {
      "cell_type": "markdown",
      "source": [
        "JAK-STATやEGFRが活性化しています"
      ],
      "metadata": {
        "id": "wKQ28FYIMTe1"
      }
    },
    {
      "cell_type": "code",
      "source": [
        "results_df"
      ],
      "metadata": {
        "id": "Im8_XM6EZLg8"
      },
      "execution_count": null,
      "outputs": []
    },
    {
      "cell_type": "code",
      "source": [
        "dc.plot_targets(results_df, stat='stat', source_name='EGFR', net=progeny, top=15)"
      ],
      "metadata": {
        "id": "OLMpE4xF5MK8"
      },
      "execution_count": null,
      "outputs": []
    },
    {
      "cell_type": "markdown",
      "source": [
        "## 生物学的用語、分子プロセス推定"
      ],
      "metadata": {
        "id": "_lLPlAUrMr4C"
      }
    },
    {
      "cell_type": "markdown",
      "source": [
        "gensetの名前の先頭のHALLMARKが邪魔なので取り除きます。"
      ],
      "metadata": {
        "id": "OimodFkTIVIh"
      }
    },
    {
      "cell_type": "code",
      "source": [
        "# Rename\n",
        "Mus_musculus_msigdb.loc[:, 'geneset'] = [name.split('HALLMARK_')[1] if len(name.split('HALLMARK_')) > 1 else name for name in Mus_musculus_msigdb['geneset']]\n",
        "Mus_musculus_msigdb"
      ],
      "metadata": {
        "id": "kqSLHSEwIKeP"
      },
      "execution_count": null,
      "outputs": []
    },
    {
      "cell_type": "code",
      "source": [
        "# Infer enrichment with ora using significant deg\n",
        "top_genes = results_df[(results_df['padj'] < 0.01)]\n",
        "\n",
        "# Run ora\n",
        "enr_pvals = dc.get_ora_df(\n",
        "    df=top_genes,\n",
        "    net=Mus_musculus_msigdb,\n",
        "    source='geneset',\n",
        "    target='genesymbol'\n",
        ")\n",
        "\n",
        "enr_pvals.head()"
      ],
      "metadata": {
        "id": "pKDw5R2r834H"
      },
      "execution_count": null,
      "outputs": []
    },
    {
      "cell_type": "markdown",
      "source": [
        "視覚化します。"
      ],
      "metadata": {
        "id": "3rKbRed-NC03"
      }
    },
    {
      "cell_type": "code",
      "source": [
        "dc.plot_dotplot(\n",
        "    enr_pvals.sort_values('Combined score', ascending=False).head(15),\n",
        "    x='Combined score',\n",
        "    y='Term',\n",
        "    s='Odds ratio',\n",
        "    c='FDR p-value',\n",
        "    scale=0.2,\n",
        "    figsize=(3, 6)\n",
        ")"
      ],
      "metadata": {
        "id": "iE7_-AAO9AS_"
      },
      "execution_count": null,
      "outputs": []
    },
    {
      "cell_type": "code",
      "source": [
        "# Plot\n",
        "dc.plot_running_score(\n",
        "    df=results_df,\n",
        "    stat='stat',\n",
        "    net=msigdb,\n",
        "    source='geneset',\n",
        "    target='genesymbol',\n",
        "    set_name='TNFA_SIGNALING_VIA_NFKB'\n",
        ")"
      ],
      "metadata": {
        "id": "5fszI5DJ9zqA"
      },
      "execution_count": null,
      "outputs": []
    }
  ]
}